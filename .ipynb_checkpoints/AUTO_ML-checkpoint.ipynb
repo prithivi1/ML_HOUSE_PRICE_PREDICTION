{
 "cells": [
  {
   "cell_type": "code",
   "execution_count": 1,
   "id": "ff8e50a6",
   "metadata": {},
   "outputs": [],
   "source": [
    "import numpy as np\n",
    "import pandas as pd\n",
    "import matplotlib.pyplot as plt\n",
    "import seaborn as sns\n",
    "\n",
    "%matplotlib inline\n",
    "\n",
    "import warnings\n",
    "warnings.filterwarnings(\"ignore\")"
   ]
  },
  {
   "cell_type": "code",
   "execution_count": 2,
   "id": "32c4106c",
   "metadata": {},
   "outputs": [],
   "source": [
    "from sklearn.experimental import enable_iterative_imputer \n",
    "from sklearn.impute import IterativeImputer\n",
    "from sklearn.preprocessing import OrdinalEncoder\n",
    "from sklearn.ensemble import (GradientBoostingRegressor, GradientBoostingClassifier)\n",
    "from sklearn.linear_model import LinearRegression\n",
    "from sklearn.model_selection import train_test_split\n",
    "from sklearn import metrics\n",
    "from sklearn.tree import DecisionTreeRegressor\n",
    "from sklearn.ensemble import RandomForestRegressor\n",
    "from xgboost import XGBRegressor"
   ]
  },
  {
   "cell_type": "markdown",
   "id": "72b663f8",
   "metadata": {},
   "source": [
    "###### REPLACING OTHER NAN VALUES"
   ]
  },
  {
   "cell_type": "code",
   "execution_count": 3,
   "id": "ba786936",
   "metadata": {},
   "outputs": [],
   "source": [
    "def replace_other_nan(data):\n",
    "    data.replace(['None','none','-','NONE'],np.nan,inplace=True)\n",
    "    return data"
   ]
  },
  {
   "cell_type": "markdown",
   "id": "cdb4b0ac",
   "metadata": {},
   "source": [
    "###### REMOVE COLUMN WITH HIGH NAN"
   ]
  },
  {
   "cell_type": "code",
   "execution_count": 4,
   "id": "76f3ad88",
   "metadata": {},
   "outputs": [],
   "source": [
    "def remove_column_with_high_nan(data,threshold):\n",
    "    for i in data.columns:\n",
    "        num = data[i].isnull().sum()\n",
    "        percent = (num/len(data[i]))*100\n",
    "        if(percent>threshold):\n",
    "            data.drop(i,axis=1,inplace=True)\n",
    "    return data"
   ]
  },
  {
   "cell_type": "markdown",
   "id": "c8340eb0",
   "metadata": {},
   "source": [
    "###### SPLITTING NUMERICAL AND CATEGORICAL COLUMNS"
   ]
  },
  {
   "cell_type": "code",
   "execution_count": 5,
   "id": "d9beba7e",
   "metadata": {},
   "outputs": [],
   "source": [
    "def spliting_numerical_categorical(data):\n",
    "    numerical_columns = data.select_dtypes(['float','int'])\n",
    "    categorical_columns = data.select_dtypes(['object'])\n",
    "    return numerical_columns,categorical_columns"
   ]
  },
  {
   "cell_type": "markdown",
   "id": "2532a7ca",
   "metadata": {},
   "source": [
    "###### REMOVING OUTLIERS"
   ]
  },
  {
   "cell_type": "code",
   "execution_count": 6,
   "id": "23f7a136",
   "metadata": {},
   "outputs": [],
   "source": [
    "def treat_outlier(data):\n",
    "    q1 = np.quantile(data,0.25)\n",
    "    q3 = np.quantile(data,0.75)\n",
    "    \n",
    "    IQR = q3 - q1\n",
    "    \n",
    "    lower_range = q1 - 1.5 * IQR\n",
    "    upper_range = q3 + 1.5 * IQR\n",
    "    \n",
    "    low_index = data[data<lower_range].index\n",
    "    high_index = data[data>upper_range].index\n",
    "    \n",
    "    data[low_index] = lower_range\n",
    "    data[high_index] = upper_range\n",
    "            \n",
    "    return data"
   ]
  },
  {
   "cell_type": "markdown",
   "id": "06966119",
   "metadata": {},
   "source": [
    "###### NUMERICAL NAN COLUMNS"
   ]
  },
  {
   "cell_type": "code",
   "execution_count": 7,
   "id": "c9add297",
   "metadata": {},
   "outputs": [],
   "source": [
    "def columns_with_nan(train):\n",
    "    target_columns = []\n",
    "    for i in train.columns:\n",
    "        if(train[i].hasnans):\n",
    "            target_columns.append(i)\n",
    "    return target_columns"
   ]
  },
  {
   "cell_type": "markdown",
   "id": "f5f6f01d",
   "metadata": {},
   "source": [
    "###### COLUMNS WITHOUT NAN"
   ]
  },
  {
   "cell_type": "code",
   "execution_count": 8,
   "id": "d6c73557",
   "metadata": {},
   "outputs": [],
   "source": [
    "def generate_data_without_nan(data,column_names):\n",
    "    return data.drop(column_names,axis=1)"
   ]
  },
  {
   "cell_type": "markdown",
   "id": "01542337",
   "metadata": {},
   "source": [
    "###### HANDLING NUMERICAL NAN VALUES"
   ]
  },
  {
   "cell_type": "markdown",
   "id": "e9ab7435",
   "metadata": {},
   "source": [
    "MEAN IMPUTATION"
   ]
  },
  {
   "cell_type": "code",
   "execution_count": 9,
   "id": "3a202f8f",
   "metadata": {},
   "outputs": [],
   "source": [
    "def mean_imputation_numerical(lst):\n",
    "    lst = lst.fillna(lst.mean())\n",
    "    return lst"
   ]
  },
  {
   "cell_type": "markdown",
   "id": "ac757475",
   "metadata": {},
   "source": [
    "MODE IMPUTATION"
   ]
  },
  {
   "cell_type": "code",
   "execution_count": 10,
   "id": "81efadec",
   "metadata": {},
   "outputs": [],
   "source": [
    "def mode_imputation_numerical(lst):\n",
    "    lst = lst.fillna(lst.mode().iloc[0])\n",
    "    return lst"
   ]
  },
  {
   "cell_type": "markdown",
   "id": "9e4b2ae0",
   "metadata": {},
   "source": [
    "REGESSION IMPUTATION"
   ]
  },
  {
   "cell_type": "code",
   "execution_count": 11,
   "id": "7095b053",
   "metadata": {},
   "outputs": [],
   "source": [
    "def gradient_boosting_model():\n",
    "    return GradientBoostingRegressor"
   ]
  },
  {
   "cell_type": "code",
   "execution_count": 12,
   "id": "625a6851",
   "metadata": {},
   "outputs": [],
   "source": [
    "def find_missing_index(numerical_columns,target_columns):\n",
    "    missing_index = numerical_columns[target_columns][numerical_columns[target_columns].isnull()].index\n",
    "    return missing_index"
   ]
  },
  {
   "cell_type": "code",
   "execution_count": 13,
   "id": "ed273194",
   "metadata": {},
   "outputs": [],
   "source": [
    "def regression_imputation_numerical(x,y,missing_index):\n",
    "    y = y.fillna(y.mean())\n",
    "    model = GradientBoostingRegressor()\n",
    "    model.fit(x,y)\n",
    "    prediction = model.predict(x)\n",
    "    prediction = pd.Series(prediction,index=y.index)\n",
    "    y.loc[missing_index] = prediction.loc[missing_index]\n",
    "    return y"
   ]
  },
  {
   "cell_type": "markdown",
   "id": "6acdf8a4",
   "metadata": {},
   "source": [
    "MICE IMPUTATION NUMERICAL"
   ]
  },
  {
   "cell_type": "code",
   "execution_count": 14,
   "id": "111d2bad",
   "metadata": {},
   "outputs": [],
   "source": [
    "def mice_imputation_numeric(data):\n",
    "    \n",
    "    iter_imp_numeric = IterativeImputer(GradientBoostingRegressor())\n",
    "    imputed_train = iter_imp_numeric.fit_transform(data)\n",
    "    data_imputed = pd.DataFrame(imputed_train, columns = data.columns, index= data.index)\n",
    "    return data_imputed"
   ]
  },
  {
   "cell_type": "markdown",
   "id": "9cf6f42a",
   "metadata": {},
   "source": [
    "###### HANDLING CATEGORICAL NAN VALUES"
   ]
  },
  {
   "cell_type": "markdown",
   "id": "bd9e2254",
   "metadata": {},
   "source": [
    "MODE IMPUTATION"
   ]
  },
  {
   "cell_type": "code",
   "execution_count": 15,
   "id": "2253634b",
   "metadata": {},
   "outputs": [],
   "source": [
    "def mode_imputation_categorical(lst):\n",
    "    mode = lst.mode().iloc[0]\n",
    "    df = lst.fillna(mode)\n",
    "    return df"
   ]
  },
  {
   "cell_type": "markdown",
   "id": "b572a7ed",
   "metadata": {},
   "source": [
    "###### CATEGORICAL DATA ENCODING"
   ]
  },
  {
   "cell_type": "code",
   "execution_count": 16,
   "id": "1a6fcfd2",
   "metadata": {},
   "outputs": [],
   "source": [
    "def frequency_encoding_categorical(categorical_column):\n",
    "    encoder_dictionary = {}\n",
    "    \n",
    "    for i in categorical_column.columns:\n",
    "        encoder_dictionary[i] = (categorical_column[i].value_counts()/len(categorical_column)).to_dict()\n",
    "    \n",
    "    for i in categorical_column.columns:\n",
    "        categorical_column[i] = categorical_column[i].map(encoder_dictionary[i])\n",
    "        \n",
    "    return categorical_column"
   ]
  },
  {
   "cell_type": "markdown",
   "id": "80fd5491",
   "metadata": {},
   "source": [
    "###### DATA CONCATINATION"
   ]
  },
  {
   "cell_type": "code",
   "execution_count": 17,
   "id": "6c90f1cb",
   "metadata": {},
   "outputs": [],
   "source": [
    "def concat_numerical_categorical(numerical_column,categorical_column):\n",
    "    df = pd.concat([numerical_column,categorical_column],axis=1)\n",
    "    return df"
   ]
  },
  {
   "cell_type": "markdown",
   "id": "e84e2e4c",
   "metadata": {},
   "source": [
    "###### DROPING HIGH UNIQUE COLUMNS "
   ]
  },
  {
   "cell_type": "code",
   "execution_count": 18,
   "id": "89a61e44",
   "metadata": {},
   "outputs": [],
   "source": [
    "def dropping_high_uniqe(df,threshold):\n",
    "    for i in df.columns:\n",
    "        if((df[i].nunique()/len(df[i]))*100>threshold):\n",
    "            df.drop(i,axis=1,inplace=True)\n",
    "    return df"
   ]
  },
  {
   "cell_type": "markdown",
   "id": "67754e0a",
   "metadata": {},
   "source": [
    "###### TRAIN TEST SPLIT"
   ]
  },
  {
   "cell_type": "code",
   "execution_count": 19,
   "id": "2138685a",
   "metadata": {},
   "outputs": [],
   "source": [
    "def train_test_spliting(x,y):\n",
    "    X_train, X_test, y_train, y_test = train_test_split(x, y, test_size=0.30, random_state=101)\n",
    "    return X_train,X_test,y_train,y_test"
   ]
  },
  {
   "cell_type": "markdown",
   "id": "2f780e7f",
   "metadata": {},
   "source": [
    "###### MODEL BUILDING "
   ]
  },
  {
   "cell_type": "markdown",
   "id": "305d390c",
   "metadata": {},
   "source": [
    "LINEAR REGRESSION"
   ]
  },
  {
   "cell_type": "code",
   "execution_count": 20,
   "id": "9c770b36",
   "metadata": {},
   "outputs": [],
   "source": [
    "def liner_regression_model(X_train, X_test, y_train, y_test):\n",
    "    \n",
    "    model = LinearRegression()\n",
    "    model.fit(X_train,y_train)\n",
    "    prediction = model.predict(X_test)\n",
    "    \n",
    "    print('LINEAR REGRESSION')\n",
    "    plt.scatter(y_test,prediction)\n",
    "    plt.show()    \n",
    "    \n",
    "    error_lr  = metrics.mean_absolute_error(y_test,prediction)\n",
    "    \n",
    "    return model,prediction,error_lr"
   ]
  },
  {
   "cell_type": "code",
   "execution_count": 21,
   "id": "04be7783",
   "metadata": {},
   "outputs": [],
   "source": [
    "def decision_tree_model(X_train, X_test, y_train, y_test):\n",
    "    dt_model = DecisionTreeRegressor()\n",
    "    dt_model.fit(X_train,y_train)\n",
    "    dt_prediction = dt_model.predict(X_test)\n",
    "\n",
    "    print('DECISION TREE')\n",
    "    plt.scatter(y_test,dt_prediction,)\n",
    "    plt.show()\n",
    "\n",
    "    \n",
    "    error_dt = metrics.mean_absolute_error(y_test,dt_prediction)\n",
    "    \n",
    "    return dt_model,dt_prediction,error_dt"
   ]
  },
  {
   "cell_type": "code",
   "execution_count": 22,
   "id": "2054bc1a",
   "metadata": {},
   "outputs": [],
   "source": [
    "def random_forest_model(X_train, X_test, y_train, y_test):\n",
    "    rf_model = RandomForestRegressor()\n",
    "    rf_model.fit(X_train,y_train)\n",
    "    rf_prediction = rf_model.predict(X_test)\n",
    "    \n",
    "    print('RANDOM FOREST')\n",
    "    plt.scatter(y_test,rf_prediction)\n",
    "    plt.show()\n",
    "\n",
    "    \n",
    "    error_rf = metrics.mean_absolute_error(y_test,rf_prediction)\n",
    "    \n",
    "    return rf_model,rf_prediction,error_rf"
   ]
  },
  {
   "cell_type": "code",
   "execution_count": 23,
   "id": "531bedff",
   "metadata": {},
   "outputs": [],
   "source": [
    "def gradient_boosting_model(X_train, X_test, y_train, y_test):\n",
    "    gb_model = GradientBoostingRegressor()\n",
    "    gb_model.fit(X_train,y_train)\n",
    "    gb_prediction = gb_model.predict(X_test)\n",
    "    \n",
    "    print('GRADIENT BOOSTING')\n",
    "    plt.scatter(y_test,gb_prediction)\n",
    "    plt.show()\n",
    "    \n",
    "    error_gb = metrics.mean_absolute_error(y_test,gb_prediction)\n",
    "    \n",
    "    return gb_model,gb_prediction,error_gb"
   ]
  },
  {
   "cell_type": "code",
   "execution_count": 24,
   "id": "d6e3957e",
   "metadata": {},
   "outputs": [],
   "source": [
    "def xgBoost_model(X_train, X_test, y_train, y_test):\n",
    "    xgb_model = XGBRegressor()\n",
    "    xgb_model.fit(X_train,y_train)\n",
    "    xgb_prediction = xgb_model.predict(X_test)\n",
    "    \n",
    "    print('XGBOOSTING')\n",
    "    plt.scatter(y_test,xgb_prediction)\n",
    "    plt.show()\n",
    "\n",
    "    \n",
    "    error_xg = metrics.mean_absolute_error(y_test,xgb_prediction)\n",
    "    \n",
    "    return xgb_model,xgb_prediction,error_xg"
   ]
  },
  {
   "cell_type": "code",
   "execution_count": 33,
   "id": "a3fb52e1",
   "metadata": {},
   "outputs": [],
   "source": [
    "def helper(data):\n",
    "    \n",
    "    data = replace_other_nan(data)\n",
    "    data = remove_column_with_high_nan(data,90)\n",
    "    \n",
    "    numerical_column,categorical_column = spliting_numerical_categorical(data)\n",
    "    \n",
    "    numerical_column_with_nan = columns_with_nan(numerical_column)\n",
    "    \n",
    "#     for i in numerical_column_with_nan:\n",
    "#         percent = ((numerical_column[i].isnull().sum())/len(numerical_column[i]))*100\n",
    "        \n",
    "#         if(percent<=5):\n",
    "#             numerical_column[i] = mean_imputation_numerical(numerical_column[i])\n",
    "#         elif(percent>5 and percent<=10):\n",
    "#             numerical_column[i] = mode_imputation_numerical(numerical_column[i])\n",
    "#         else:\n",
    "#             x = generate_data_without_nan(numerical_column,numerical_column_with_nan)\n",
    "#             missing_index = find_missing_index(numerical_column,i)\n",
    "#             numerical_column[i] = regression_imputation_numerical(x,numerical_column[i],missing_index)\n",
    "\n",
    "    numerical_column = mice_imputation_numeric(numerical_column)\n",
    "            \n",
    "\n",
    "    categorical_column_with_nan = columns_with_nan(categorical_column)\n",
    "\n",
    "    for i in categorical_column_with_nan:\n",
    "        categorical_column[i] = mode_imputation_categorical(categorical_column[i])\n",
    "        \n",
    "    categorical_column = frequency_encoding_categorical(categorical_column)\n",
    "    \n",
    "    df = concat_numerical_categorical(numerical_column,categorical_column)\n",
    "    \n",
    "    df = dropping_high_uniqe(df,95)\n",
    "    \n",
    "    for i in df.columns:\n",
    "        df[i] = treat_outlier(df[i])\n",
    "    \n",
    "    return df"
   ]
  },
  {
   "cell_type": "code",
   "execution_count": 34,
   "id": "8a3467c7",
   "metadata": {},
   "outputs": [],
   "source": [
    "def model_building(df,y):\n",
    "    X_train, X_test, y_train, y_test = train_test_spliting(df,y)\n",
    "    \n",
    "    ml_models = {}\n",
    "    \n",
    "    ml_models['Linear Regression'] = liner_regression_model(X_train, X_test, y_train, y_test)\n",
    "    ml_models['Decision Tree'] = decision_tree_model(X_train, X_test, y_train, y_test)\n",
    "    ml_models['Random forest'] = random_forest_model(X_train, X_test, y_train, y_test)\n",
    "    ml_models['Gradient Boosting'] = gradient_boosting_model(X_train, X_test, y_train, y_test)\n",
    "    ml_models['XGBoosting'] = xgBoost_model(X_train, X_test, y_train, y_test)\n",
    "        \n",
    "    return ml_models"
   ]
  },
  {
   "cell_type": "markdown",
   "id": "cb201e53",
   "metadata": {},
   "source": [
    "###### IMPORT DATA"
   ]
  },
  {
   "cell_type": "code",
   "execution_count": 40,
   "id": "e801aef2",
   "metadata": {},
   "outputs": [],
   "source": [
    "train = pd.read_csv(\"train.csv\")\n",
    "test = pd.read_csv(\"test.csv\")"
   ]
  },
  {
   "cell_type": "code",
   "execution_count": 41,
   "id": "6a1d0979",
   "metadata": {},
   "outputs": [],
   "source": [
    "y = train['SalePrice']\n",
    "train.drop('SalePrice',axis=1,inplace=True)"
   ]
  },
  {
   "cell_type": "code",
   "execution_count": 42,
   "id": "ee12fc90",
   "metadata": {},
   "outputs": [
    {
     "name": "stdout",
     "output_type": "stream",
     "text": [
      "14.634389162063599\n"
     ]
    }
   ],
   "source": [
    "import time\n",
    "\n",
    "start = time.time()\n",
    "df = helper(train)\n",
    "end = time.time()\n",
    "\n",
    "print(end-start)"
   ]
  },
  {
   "cell_type": "code",
   "execution_count": 43,
   "id": "a980168d",
   "metadata": {},
   "outputs": [
    {
     "name": "stdout",
     "output_type": "stream",
     "text": [
      "LINEAR REGRESSION\n"
     ]
    },
    {
     "data": {
      "image/png": "[encoded data removed]",
      "text/plain": [
       "<Figure size 432x288 with 1 Axes>"
      ]
     },
     "metadata": {
      "needs_background": "light"
     },
     "output_type": "display_data"
    },
    {
     "name": "stdout",
     "output_type": "stream",
     "text": [
      "DECISION TREE\n"
     ]
    },
    {
     "data": {
      "image/png": "[encoded data removed]",
      "text/plain": [
       "<Figure size 432x288 with 1 Axes>"
      ]
     },
     "metadata": {
      "needs_background": "light"
     },
     "output_type": "display_data"
    },
    {
     "name": "stdout",
     "output_type": "stream",
     "text": [
      "RANDOM FOREST\n"
     ]
    },
    {
     "data": {
      "image/png": "[encoded data removed]",
      "text/plain": [
       "<Figure size 432x288 with 1 Axes>"
      ]
     },
     "metadata": {
      "needs_background": "light"
     },
     "output_type": "display_data"
    },
    {
     "name": "stdout",
     "output_type": "stream",
     "text": [
      "GRADIENT BOOSTING\n"
     ]
    },
    {
     "data": {
      "image/png": "[encoded data removed]",
      "text/plain": [
       "<Figure size 432x288 with 1 Axes>"
      ]
     },
     "metadata": {
      "needs_background": "light"
     },
     "output_type": "display_data"
    },
    {
     "name": "stdout",
     "output_type": "stream",
     "text": [
      "XGBOOSTING\n"
     ]
    },
    {
     "data": {
      "image/png": "[encoded data removed]",
      "text/plain": [
       "<Figure size 432x288 with 1 Axes>"
      ]
     },
     "metadata": {
      "needs_background": "light"
     },
     "output_type": "display_data"
    }
   ],
   "source": [
    "result = model_building(df,y)"
   ]
  },
  {
   "cell_type": "code",
   "execution_count": 44,
   "id": "f078e952",
   "metadata": {},
   "outputs": [],
   "source": [
    "algo = []\n",
    "mse = []\n",
    "for key, value in result.items():\n",
    "    algo.append(key)\n",
    "    mse.append(value[2])"
   ]
  },
  {
   "cell_type": "code",
   "execution_count": 45,
   "id": "76162a7e",
   "metadata": {},
   "outputs": [],
   "source": [
    "temp = pd.DataFrame({\n",
    "    'MODEL': algo,\n",
    "    'ERROR': mse\n",
    "})"
   ]
  },
  {
   "cell_type": "code",
   "execution_count": 39,
   "id": "dde2c3b8",
   "metadata": {},
   "outputs": [
    {
     "data": {
      "text/html": [
       "<div>\n",
       "<style scoped>\n",
       "    .dataframe tbody tr th:only-of-type {\n",
       "        vertical-align: middle;\n",
       "    }\n",
       "\n",
       "    .dataframe tbody tr th {\n",
       "        vertical-align: top;\n",
       "    }\n",
       "\n",
       "    .dataframe thead th {\n",
       "        text-align: right;\n",
       "    }\n",
       "</style>\n",
       "<table border=\"1\" class=\"dataframe\">\n",
       "  <thead>\n",
       "    <tr style=\"text-align: right;\">\n",
       "      <th></th>\n",
       "      <th>MODEL</th>\n",
       "      <th>ERROR</th>\n",
       "    </tr>\n",
       "  </thead>\n",
       "  <tbody>\n",
       "    <tr>\n",
       "      <th>0</th>\n",
       "      <td>Linear Regression</td>\n",
       "      <td>19420.041066</td>\n",
       "    </tr>\n",
       "    <tr>\n",
       "      <th>1</th>\n",
       "      <td>Decision Tree</td>\n",
       "      <td>26717.600457</td>\n",
       "    </tr>\n",
       "    <tr>\n",
       "      <th>2</th>\n",
       "      <td>Random forest</td>\n",
       "      <td>18256.091667</td>\n",
       "    </tr>\n",
       "    <tr>\n",
       "      <th>3</th>\n",
       "      <td>Gradient Boosting</td>\n",
       "      <td>17018.755953</td>\n",
       "    </tr>\n",
       "    <tr>\n",
       "      <th>4</th>\n",
       "      <td>XGBoosting</td>\n",
       "      <td>18901.652513</td>\n",
       "    </tr>\n",
       "  </tbody>\n",
       "</table>\n",
       "</div>"
      ],
      "text/plain": [
       "               MODEL         ERROR\n",
       "0  Linear Regression  19420.041066\n",
       "1      Decision Tree  26717.600457\n",
       "2      Random forest  18256.091667\n",
       "3  Gradient Boosting  17018.755953\n",
       "4         XGBoosting  18901.652513"
      ]
     },
     "execution_count": 39,
     "metadata": {},
     "output_type": "execute_result"
    }
   ],
   "source": [
    "temp"
   ]
  },
  {
   "cell_type": "code",
   "execution_count": null,
   "id": "8963c23d",
   "metadata": {},
   "outputs": [],
   "source": []
  },
  {
   "cell_type": "code",
   "execution_count": 47,
   "id": "995f94bf",
   "metadata": {},
   "outputs": [
    {
     "data": {
      "text/plain": [
       "GradientBoostingRegressor()"
      ]
     },
     "execution_count": 47,
     "metadata": {},
     "output_type": "execute_result"
    }
   ],
   "source": [
    "model = result['Gradient Boosting'][0]\n",
    "model"
   ]
  },
  {
   "cell_type": "code",
   "execution_count": 48,
   "id": "dce64c2b",
   "metadata": {},
   "outputs": [],
   "source": [
    "df = helper(test)"
   ]
  },
  {
   "cell_type": "code",
   "execution_count": 51,
   "id": "bb2e44f2",
   "metadata": {},
   "outputs": [],
   "source": [
    "output = model.predict(df)"
   ]
  },
  {
   "cell_type": "code",
   "execution_count": 53,
   "id": "7578e292",
   "metadata": {},
   "outputs": [],
   "source": [
    "submission = pd.DataFrame({\n",
    "        \"Id\": test[\"Id\"],\n",
    "        \"SalePrice\": output\n",
    "    })"
   ]
  },
  {
   "cell_type": "code",
   "execution_count": 55,
   "id": "31cd7bd8",
   "metadata": {},
   "outputs": [],
   "source": [
    "submission.to_csv('submission.csv')"
   ]
  },
  {
   "cell_type": "code",
   "execution_count": null,
   "id": "90c65bdb",
   "metadata": {},
   "outputs": [],
   "source": []
  },
  {
   "cell_type": "code",
   "execution_count": 234,
   "id": "6c667916",
   "metadata": {},
   "outputs": [
    {
     "name": "stdout",
     "output_type": "stream",
     "text": [
      "LINEAR REGRESSION\n"
     ]
    },
    {
     "data": {
      "image/png": "[encoded data removed]",
      "text/plain": [
       "<Figure size 432x288 with 1 Axes>"
      ]
     },
     "metadata": {
      "needs_background": "light"
     },
     "output_type": "display_data"
    },
    {
     "name": "stdout",
     "output_type": "stream",
     "text": [
      "DECISION TREE\n"
     ]
    },
    {
     "data": {
      "image/png": "[encoded data removed]",
      "text/plain": [
       "<Figure size 432x288 with 1 Axes>"
      ]
     },
     "metadata": {
      "needs_background": "light"
     },
     "output_type": "display_data"
    },
    {
     "name": "stdout",
     "output_type": "stream",
     "text": [
      "RANDOM FOREST\n"
     ]
    },
    {
     "data": {
      "image/png": "[encoded data removed]",
      "text/plain": [
       "<Figure size 432x288 with 1 Axes>"
      ]
     },
     "metadata": {
      "needs_background": "light"
     },
     "output_type": "display_data"
    },
    {
     "name": "stdout",
     "output_type": "stream",
     "text": [
      "GRADIENT BOOSTING\n"
     ]
    },
    {
     "data": {
      "image/png": "[encoded data removed]",
      "text/plain": [
       "<Figure size 432x288 with 1 Axes>"
      ]
     },
     "metadata": {
      "needs_background": "light"
     },
     "output_type": "display_data"
    },
    {
     "name": "stdout",
     "output_type": "stream",
     "text": [
      "XGBOOSTING\n"
     ]
    },
    {
     "data": {
      "image/png": "[encoded data removed]",
      "text/plain": [
       "<Figure size 432x288 with 1 Axes>"
      ]
     },
     "metadata": {
      "needs_background": "light"
     },
     "output_type": "display_data"
    },
    {
     "name": "stdout",
     "output_type": "stream",
     "text": [
      "               MODEL         ERROR\n",
      "0  Linear Regression  22056.288463\n",
      "1      Decision Tree  26075.253425\n",
      "2      Random forest  18975.298562\n",
      "3  Gradient Boosting  17598.044565\n",
      "4         XGBoosting  19227.415231\n"
     ]
    }
   ],
   "source": [
    "importance.columns = ['feature', 'importance']\n",
    "importance.sort_values(by='importance', ascending=False)\n",
    "feature_selected = importance[importance['importance']>=0.005]['feature']\n",
    "feat = list(feature_selected)\n",
    "\n",
    "result = model_building(df[feat],y)\n",
    "\n",
    "algo = []\n",
    "mse = []\n",
    "\n",
    "for key, value in result.items():\n",
    "    algo.append(key)\n",
    "    mse.append(value[2])\n",
    "\n",
    "temp = pd.DataFrame({\n",
    "    'MODEL': algo,\n",
    "    'ERROR': mse\n",
    "})\n",
    "\n",
    "print(temp)\n"
   ]
  },
  {
   "cell_type": "code",
   "execution_count": 166,
   "id": "6522baac",
   "metadata": {},
   "outputs": [
    {
     "data": {
      "text/html": [
       "<div>\n",
       "<style scoped>\n",
       "    .dataframe tbody tr th:only-of-type {\n",
       "        vertical-align: middle;\n",
       "    }\n",
       "\n",
       "    .dataframe tbody tr th {\n",
       "        vertical-align: top;\n",
       "    }\n",
       "\n",
       "    .dataframe thead th {\n",
       "        text-align: right;\n",
       "    }\n",
       "</style>\n",
       "<table border=\"1\" class=\"dataframe\">\n",
       "  <thead>\n",
       "    <tr style=\"text-align: right;\">\n",
       "      <th></th>\n",
       "      <th>MODEL</th>\n",
       "      <th>ERROR</th>\n",
       "    </tr>\n",
       "  </thead>\n",
       "  <tbody>\n",
       "    <tr>\n",
       "      <th>0</th>\n",
       "      <td>Linear Regression</td>\n",
       "      <td>19414.327404</td>\n",
       "    </tr>\n",
       "    <tr>\n",
       "      <th>1</th>\n",
       "      <td>Decision Tree</td>\n",
       "      <td>26292.310502</td>\n",
       "    </tr>\n",
       "    <tr>\n",
       "      <th>2</th>\n",
       "      <td>Random forest</td>\n",
       "      <td>18798.052306</td>\n",
       "    </tr>\n",
       "    <tr>\n",
       "      <th>3</th>\n",
       "      <td>Gradient Boosting</td>\n",
       "      <td>16875.944837</td>\n",
       "    </tr>\n",
       "    <tr>\n",
       "      <th>4</th>\n",
       "      <td>XGBoosting</td>\n",
       "      <td>18289.085349</td>\n",
       "    </tr>\n",
       "  </tbody>\n",
       "</table>\n",
       "</div>"
      ],
      "text/plain": [
       "               MODEL         ERROR\n",
       "0  Linear Regression  19414.327404\n",
       "1      Decision Tree  26292.310502\n",
       "2      Random forest  18798.052306\n",
       "3  Gradient Boosting  16875.944837\n",
       "4         XGBoosting  18289.085349"
      ]
     },
     "execution_count": 166,
     "metadata": {},
     "output_type": "execute_result"
    }
   ],
   "source": [
    "temp"
   ]
  },
  {
   "cell_type": "code",
   "execution_count": 207,
   "id": "b77a9bed",
   "metadata": {},
   "outputs": [
    {
     "data": {
      "text/html": [
       "<div>\n",
       "<style scoped>\n",
       "    .dataframe tbody tr th:only-of-type {\n",
       "        vertical-align: middle;\n",
       "    }\n",
       "\n",
       "    .dataframe tbody tr th {\n",
       "        vertical-align: top;\n",
       "    }\n",
       "\n",
       "    .dataframe thead th {\n",
       "        text-align: right;\n",
       "    }\n",
       "</style>\n",
       "<table border=\"1\" class=\"dataframe\">\n",
       "  <thead>\n",
       "    <tr style=\"text-align: right;\">\n",
       "      <th></th>\n",
       "      <th>MODEL</th>\n",
       "      <th>ERROR</th>\n",
       "    </tr>\n",
       "  </thead>\n",
       "  <tbody>\n",
       "    <tr>\n",
       "      <th>0</th>\n",
       "      <td>Linear Regression</td>\n",
       "      <td>19414.327404</td>\n",
       "    </tr>\n",
       "    <tr>\n",
       "      <th>1</th>\n",
       "      <td>Decision Tree</td>\n",
       "      <td>27529.410959</td>\n",
       "    </tr>\n",
       "    <tr>\n",
       "      <th>2</th>\n",
       "      <td>Random forest</td>\n",
       "      <td>30701.338143</td>\n",
       "    </tr>\n",
       "    <tr>\n",
       "      <th>3</th>\n",
       "      <td>Gradient Boosting</td>\n",
       "      <td>16901.092139</td>\n",
       "    </tr>\n",
       "    <tr>\n",
       "      <th>4</th>\n",
       "      <td>XGBoosting</td>\n",
       "      <td>18289.085349</td>\n",
       "    </tr>\n",
       "  </tbody>\n",
       "</table>\n",
       "</div>"
      ],
      "text/plain": [
       "               MODEL         ERROR\n",
       "0  Linear Regression  19414.327404\n",
       "1      Decision Tree  27529.410959\n",
       "2      Random forest  30701.338143\n",
       "3  Gradient Boosting  16901.092139\n",
       "4         XGBoosting  18289.085349"
      ]
     },
     "execution_count": 207,
     "metadata": {},
     "output_type": "execute_result"
    }
   ],
   "source": [
    "temp"
   ]
  },
  {
   "cell_type": "code",
   "execution_count": null,
   "id": "543ff303",
   "metadata": {},
   "outputs": [],
   "source": []
  }
 ],
 "metadata": {
  "kernelspec": {
   "display_name": "Python 3",
   "language": "python",
   "name": "python3"
  },
  "language_info": {
   "codemirror_mode": {
    "name": "ipython",
    "version": 3
   },
   "file_extension": ".py",
   "mimetype": "text/x-python",
   "name": "python",
   "nbconvert_exporter": "python",
   "pygments_lexer": "ipython3",
   "version": "3.8.8"
  }
 },
 "nbformat": 4,
 "nbformat_minor": 5
}
