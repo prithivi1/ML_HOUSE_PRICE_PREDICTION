{
 "cells": [
  {
   "cell_type": "code",
   "execution_count": 1,
   "id": "ab669488",
   "metadata": {},
   "outputs": [],
   "source": [
    "import numpy as np\n",
    "import pandas as pd\n",
    "import matplotlib.pyplot as plt\n",
    "import seaborn as sns\n",
    "\n",
    "%matplotlib inline\n",
    "\n",
    "import warnings\n",
    "warnings.filterwarnings(\"ignore\")"
   ]
  },
  {
   "cell_type": "code",
   "execution_count": 2,
   "id": "573e0d91",
   "metadata": {},
   "outputs": [],
   "source": [
    "from sklearn.experimental import enable_iterative_imputer \n",
    "from sklearn.impute import IterativeImputer\n",
    "from sklearn.preprocessing import OrdinalEncoder\n",
    "from sklearn.ensemble import (GradientBoostingRegressor, GradientBoostingClassifier)\n",
    "from sklearn.linear_model import LinearRegression\n",
    "from sklearn.model_selection import train_test_split\n",
    "from sklearn import metrics\n",
    "from sklearn.tree import DecisionTreeRegressor\n",
    "from sklearn.ensemble import RandomForestRegressor\n",
    "from xgboost import XGBRegressor"
   ]
  },
  {
   "cell_type": "markdown",
   "id": "420e5471",
   "metadata": {},
   "source": [
    "###### REPLACING OTHER NAN VALUES"
   ]
  },
  {
   "cell_type": "code",
   "execution_count": 3,
   "id": "53998839",
   "metadata": {},
   "outputs": [],
   "source": [
    "def replace_other_nan(data):\n",
    "    data.replace(['None','none','-','NONE'],np.nan,inplace=True)\n",
    "    return data"
   ]
  },
  {
   "cell_type": "markdown",
   "id": "57e81027",
   "metadata": {},
   "source": [
    "###### REMOVE COLUMN WITH HIGH NAN"
   ]
  },
  {
   "cell_type": "code",
   "execution_count": 4,
   "id": "9f80543e",
   "metadata": {},
   "outputs": [],
   "source": [
    "def remove_column_with_high_nan(data,threshold):\n",
    "    for i in data.columns:\n",
    "        num = data[i].isnull().sum()\n",
    "        percent = (num/len(data[i]))*100\n",
    "        if(percent>threshold):\n",
    "            data.drop(i,axis=1,inplace=True)\n",
    "    return data"
   ]
  },
  {
   "cell_type": "markdown",
   "id": "ee1466b1",
   "metadata": {},
   "source": [
    "###### SPLITTING NUMERICAL AND CATEGORICAL COLUMNS"
   ]
  },
  {
   "cell_type": "code",
   "execution_count": 5,
   "id": "895c567d",
   "metadata": {},
   "outputs": [],
   "source": [
    "def spliting_numerical_categorical(data):\n",
    "    numerical_columns = data.select_dtypes(['float','int'])\n",
    "    categorical_columns = data.select_dtypes(['object'])\n",
    "    return numerical_columns,categorical_columns"
   ]
  },
  {
   "cell_type": "markdown",
   "id": "f08d5acd",
   "metadata": {},
   "source": [
    "###### NUMERICAL NAN COLUMNS"
   ]
  },
  {
   "cell_type": "code",
   "execution_count": 6,
   "id": "b39c7dfb",
   "metadata": {},
   "outputs": [],
   "source": [
    "def columns_with_nan(train):\n",
    "    target_columns = []\n",
    "    for i in train.columns:\n",
    "        if(train[i].hasnans):\n",
    "            target_columns.append(i)\n",
    "    return target_columns"
   ]
  },
  {
   "cell_type": "markdown",
   "id": "2fc62ef2",
   "metadata": {},
   "source": [
    "###### COLUMNS WITHOUT NAN"
   ]
  },
  {
   "cell_type": "code",
   "execution_count": 7,
   "id": "5ca568dc",
   "metadata": {},
   "outputs": [],
   "source": [
    "def generate_data_without_nan(data,column_names):\n",
    "    return data.drop(column_names,axis=1)"
   ]
  },
  {
   "cell_type": "markdown",
   "id": "0c814237",
   "metadata": {},
   "source": [
    "###### HANDLING NUMERICAL NAN VALUES"
   ]
  },
  {
   "cell_type": "markdown",
   "id": "97a10ed4",
   "metadata": {},
   "source": [
    "MEAN IMPUTATION"
   ]
  },
  {
   "cell_type": "code",
   "execution_count": 8,
   "id": "add1f737",
   "metadata": {},
   "outputs": [],
   "source": [
    "def mean_imputation_numerical(lst):\n",
    "    lst = lst.fillna(lst.mean())\n",
    "    return lst"
   ]
  },
  {
   "cell_type": "markdown",
   "id": "436162d2",
   "metadata": {},
   "source": [
    "MODE IMPUTATION"
   ]
  },
  {
   "cell_type": "code",
   "execution_count": 9,
   "id": "79e72342",
   "metadata": {},
   "outputs": [],
   "source": [
    "def mode_imputation_numerical(lst):\n",
    "    lst = lst.fillna(lst.mode().iloc[0])\n",
    "    return lst"
   ]
  },
  {
   "cell_type": "markdown",
   "id": "5ea10ef4",
   "metadata": {},
   "source": [
    "REGESSION IMPUTATION"
   ]
  },
  {
   "cell_type": "code",
   "execution_count": 10,
   "id": "06ae7708",
   "metadata": {},
   "outputs": [],
   "source": [
    "def gradient_boosting_model():\n",
    "    return GradientBoostingRegressor"
   ]
  },
  {
   "cell_type": "code",
   "execution_count": 11,
   "id": "1d2eb14d",
   "metadata": {},
   "outputs": [],
   "source": [
    "def find_missing_index(numerical_columns,target_columns):\n",
    "    missing_index = numerical_columns[target_columns][numerical_columns[target_columns].isnull()].index\n",
    "    return missing_index"
   ]
  },
  {
   "cell_type": "code",
   "execution_count": 12,
   "id": "959e2108",
   "metadata": {},
   "outputs": [],
   "source": [
    "def regression_imputation_numerical(x,y,missing_index):\n",
    "    y = y.fillna(y.mean())\n",
    "    model = GradientBoostingRegressor()\n",
    "    model.fit(x,y)\n",
    "    prediction = model.predict(x)\n",
    "    prediction = pd.Series(prediction,index=y.index)\n",
    "    y.loc[missing_index] = prediction.loc[missing_index]\n",
    "    return y"
   ]
  },
  {
   "cell_type": "markdown",
   "id": "62683246",
   "metadata": {},
   "source": [
    "MICE IMPUTATION NUMERICAL"
   ]
  },
  {
   "cell_type": "code",
   "execution_count": 13,
   "id": "c78370b9",
   "metadata": {},
   "outputs": [],
   "source": [
    "def mice_imputation_numeric(data):\n",
    "    \n",
    "    iter_imp_numeric = IterativeImputer(GradientBoostingRegressor())\n",
    "    imputed_train = iter_imp_numeric.fit_transform(data)\n",
    "    data_imputed = pd.DataFrame(imputed_train, columns = data.columns, index= data.index)\n",
    "    return data_imputed"
   ]
  },
  {
   "cell_type": "markdown",
   "id": "44c86ea2",
   "metadata": {},
   "source": [
    "###### HANDLING CATEGORICAL NAN VALUES"
   ]
  },
  {
   "cell_type": "markdown",
   "id": "afb69631",
   "metadata": {},
   "source": [
    "MODE IMPUTATION"
   ]
  },
  {
   "cell_type": "code",
   "execution_count": 14,
   "id": "9c84033d",
   "metadata": {},
   "outputs": [],
   "source": [
    "def mode_imputation_categorical(lst):\n",
    "    mode = lst.mode().iloc[0]\n",
    "    df = lst.fillna(mode)\n",
    "    return df"
   ]
  },
  {
   "cell_type": "markdown",
   "id": "481b8321",
   "metadata": {},
   "source": [
    "###### CATEGORICAL DATA ENCODING"
   ]
  },
  {
   "cell_type": "code",
   "execution_count": 15,
   "id": "7425c4e5",
   "metadata": {},
   "outputs": [],
   "source": [
    "def frequency_encoding_categorical(categorical_column):\n",
    "    encoder_dictionary = {}\n",
    "    \n",
    "    for i in categorical_column.columns:\n",
    "        encoder_dictionary[i] = (categorical_column[i].value_counts()/len(categorical_column)).to_dict()\n",
    "    \n",
    "    for i in categorical_column.columns:\n",
    "        categorical_column[i] = categorical_column[i].map(encoder_dictionary[i])\n",
    "        \n",
    "    return categorical_column"
   ]
  },
  {
   "cell_type": "markdown",
   "id": "aa9378d5",
   "metadata": {},
   "source": [
    "###### DATA CONCATINATION"
   ]
  },
  {
   "cell_type": "code",
   "execution_count": 16,
   "id": "5fde4924",
   "metadata": {},
   "outputs": [],
   "source": [
    "def concat_numerical_categorical(numerical_column,categorical_column):\n",
    "    df = pd.concat([numerical_column,categorical_column],axis=1)\n",
    "    return df"
   ]
  },
  {
   "cell_type": "markdown",
   "id": "3a0dc0ff",
   "metadata": {},
   "source": [
    "###### DROPING HIGH UNIQUE COLUMNS "
   ]
  },
  {
   "cell_type": "code",
   "execution_count": 17,
   "id": "9512547d",
   "metadata": {},
   "outputs": [],
   "source": [
    "def dropping_high_uniqe(df,threshold):\n",
    "    for i in df.columns:\n",
    "        if((df[i].nunique()/len(df[i]))*100>threshold):\n",
    "            df.drop(i,axis=1,inplace=True)\n",
    "    return df"
   ]
  },
  {
   "cell_type": "markdown",
   "id": "1876a3c9",
   "metadata": {},
   "source": [
    "###### TRAIN TEST SPLIT"
   ]
  },
  {
   "cell_type": "code",
   "execution_count": 18,
   "id": "e9bcf08a",
   "metadata": {},
   "outputs": [],
   "source": [
    "def train_test_spliting(x,y):\n",
    "    X_train, X_test, y_train, y_test = train_test_split(x, y, test_size=0.30, random_state=101)\n",
    "    return X_train,X_test,y_train,y_test"
   ]
  },
  {
   "cell_type": "markdown",
   "id": "da626279",
   "metadata": {},
   "source": [
    "###### MODEL BUILDING "
   ]
  },
  {
   "cell_type": "markdown",
   "id": "42173b28",
   "metadata": {},
   "source": [
    "LINEAR REGRESSION"
   ]
  },
  {
   "cell_type": "code",
   "execution_count": 19,
   "id": "4b4835a2",
   "metadata": {},
   "outputs": [],
   "source": [
    "def liner_regression_model(X_train, X_test, y_train, y_test):\n",
    "    \n",
    "    model = LinearRegression()\n",
    "    model.fit(X_train,y_train)\n",
    "    prediction = model.predict(X_test)\n",
    "    \n",
    "    print('LINEAR REGRESSION')\n",
    "    plt.scatter(y_test,prediction)\n",
    "    \n",
    "    error_lr  = metrics.mean_absolute_error(y_test,prediction)\n",
    "    \n",
    "    return prediction,error_lr"
   ]
  },
  {
   "cell_type": "code",
   "execution_count": 20,
   "id": "840eaf0a",
   "metadata": {},
   "outputs": [],
   "source": [
    "def decision_tree_model(X_train, X_test, y_train, y_test):\n",
    "    dt_model = DecisionTreeRegressor()\n",
    "    dt_model.fit(X_train,y_train)\n",
    "    dt_prediction = dt_model.predict(X_test)\n",
    "\n",
    "    print('DECISION TREE')\n",
    "    plt.scatter(y_test,dt_prediction,)\n",
    "    \n",
    "    error_dt = metrics.mean_absolute_error(y_test,dt_prediction)\n",
    "    \n",
    "    return dt_prediction,error_dt"
   ]
  },
  {
   "cell_type": "code",
   "execution_count": 21,
   "id": "90f31abe",
   "metadata": {},
   "outputs": [],
   "source": [
    "def random_forest_model(X_train, X_test, y_train, y_test):\n",
    "    rf_model = RandomForestRegressor()\n",
    "    rf_model.fit(X_train,y_train)\n",
    "    rf_prediction = rf_model.predict(X_test)\n",
    "    \n",
    "    print('RANDOM FOREST')\n",
    "    plt.scatter(y_test,rf_prediction)\n",
    "    \n",
    "    error_rf = metrics.mean_absolute_error(y_test,rf_prediction)\n",
    "    \n",
    "    return rf_prediction,error_rf"
   ]
  },
  {
   "cell_type": "code",
   "execution_count": 28,
   "id": "a74108a5",
   "metadata": {},
   "outputs": [],
   "source": [
    "def gradient_boosting_model(X_train, X_test, y_train, y_test):\n",
    "    gb_model = GradientBoostingRegressor()\n",
    "    gb_model.fit(X_train,y_train)\n",
    "    gb_prediction = gb_model.predict(X_test)\n",
    "    \n",
    "    print('GRADIENT BOOSTING')\n",
    "    plt.scatter(y_test,gb_prediction)\n",
    "    \n",
    "    error_gb = metrics.mean_absolute_error(y_test,gb_prediction)\n",
    "    \n",
    "    return gb_prediction,error_gb"
   ]
  },
  {
   "cell_type": "code",
   "execution_count": 23,
   "id": "67f4f0d1",
   "metadata": {},
   "outputs": [],
   "source": [
    "def xgBoost_model(X_train, X_test, y_train, y_test):\n",
    "    xgb_model = XGBRegressor()\n",
    "    xgb_model.fit(X_train,y_train)\n",
    "    xgb_prediction = xgb_model.predict(X_test)\n",
    "    \n",
    "    print('XGBOOSTING')\n",
    "    plt.scatter(y_test,xgb_prediction)\n",
    "    \n",
    "    error_xg = metrics.mean_absolute_error(y_test,xgb_prediction)\n",
    "    \n",
    "    return xgb_prediction,error_xg"
   ]
  },
  {
   "cell_type": "code",
   "execution_count": 24,
   "id": "160cba24",
   "metadata": {},
   "outputs": [],
   "source": [
    "def helper(data,y):\n",
    "    \n",
    "    data = replace_other_nan(data)\n",
    "    data = remove_column_with_high_nan(data,90)\n",
    "    \n",
    "    numerical_column,categorical_column = spliting_numerical_categorical(data)\n",
    "    \n",
    "    \n",
    "    numerical_column_with_nan = columns_with_nan(numerical_column)\n",
    "    \n",
    "#     for i in numerical_column_with_nan:\n",
    "#         percent = ((numerical_column[i].isnull().sum())/len(numerical_column[i]))*100\n",
    "        \n",
    "#         if(percent<=5):\n",
    "#             numerical_column[i] = mean_imputation_numerical(numerical_column[i])\n",
    "#         elif(percent>5 and percent<=10):\n",
    "#             numerical_column[i] = mode_imputation_numerical(numerical_column[i])\n",
    "#         else:\n",
    "#             x = generate_data_without_nan(numerical_column,numerical_column_with_nan)\n",
    "#             missing_index = find_missing_index(numerical_column,i)\n",
    "#             numerical_column[i] = regression_imputation_numerical(x,numerical_column[i],missing_index)\n",
    "\n",
    "    numerical_column = mice_imputation_numeric(numerical_column)\n",
    "            \n",
    "\n",
    "    categorical_column_with_nan = columns_with_nan(categorical_column)\n",
    "\n",
    "    for i in categorical_column_with_nan:\n",
    "        categorical_column[i] = mode_imputation_categorical(categorical_column[i])\n",
    "        \n",
    "    categorical_column = frequency_encoding_categorical(categorical_column)\n",
    "    \n",
    "    df = concat_numerical_categorical(numerical_column,categorical_column)\n",
    "    \n",
    "    df = dropping_high_uniqe(df,95)\n",
    "    \n",
    "    X_train, X_test, y_train, y_test = train_test_spliting(df,y)\n",
    "    \n",
    "    ml_models = {}\n",
    "    \n",
    "    ml_models['Linear Regression'] = liner_regression_model(X_train, X_test, y_train, y_test)\n",
    "    ml_models['Decision Tree'] = decision_tree_model(X_train, X_test, y_train, y_test)\n",
    "    ml_models['Random forest'] = random_forest_model(X_train, X_test, y_train, y_test)\n",
    "    ml_models['Gradient Boosting'] = gradient_boosting_model(X_train, X_test, y_train, y_test)\n",
    "    ml_models['XGBoosting'] = xgBoost_model(X_train, X_test, y_train, y_test)\n",
    "        \n",
    "    return ml_models"
   ]
  },
  {
   "cell_type": "markdown",
   "id": "13508e7f",
   "metadata": {},
   "source": [
    "###### IMPORT DATA"
   ]
  },
  {
   "cell_type": "code",
   "execution_count": 25,
   "id": "3bcd1861",
   "metadata": {},
   "outputs": [],
   "source": [
    "train = pd.read_csv(\"train.csv\")\n",
    "test = pd.read_csv(\"test.csv\")"
   ]
  },
  {
   "cell_type": "code",
   "execution_count": 26,
   "id": "821d10b9",
   "metadata": {},
   "outputs": [],
   "source": [
    "y = train['SalePrice']\n",
    "train.drop('SalePrice',axis=1,inplace=True)"
   ]
  },
  {
   "cell_type": "code",
   "execution_count": 29,
   "id": "bc986a36",
   "metadata": {},
   "outputs": [
    {
     "name": "stdout",
     "output_type": "stream",
     "text": [
      "LINEAR REGRESSION\n",
      "DECISION TREE\n",
      "RANDOM FOREST\n",
      "GRADIENT BOOSTING\n",
      "XGBOOSTING\n",
      "19.548176765441895\n"
     ]
    },
    {
     "data": {
      "image/png": "[encoded data removed]",
      "text/plain": [
       "<Figure size 432x288 with 1 Axes>"
      ]
     },
     "metadata": {
      "needs_background": "light"
     },
     "output_type": "display_data"
    }
   ],
   "source": [
    "import time\n",
    "\n",
    "start = time.time()\n",
    "result = helper(train,y)\n",
    "end = time.time()\n",
    "\n",
    "print(end-start)"
   ]
  },
  {
   "cell_type": "code",
   "execution_count": 31,
   "id": "220946e7",
   "metadata": {},
   "outputs": [],
   "source": [
    "algo = []\n",
    "mse = []\n",
    "for key, value in result.items():\n",
    "    algo.append(key)\n",
    "    mse.append(value[1])"
   ]
  },
  {
   "cell_type": "markdown",
   "id": "d237c364",
   "metadata": {},
   "source": []
  },
  {
   "cell_type": "code",
   "execution_count": 33,
   "id": "2ddb20c8",
   "metadata": {},
   "outputs": [
    {
     "ename": "SyntaxError",
     "evalue": "invalid syntax (<ipython-input-33-cb54f490d677>, line 2)",
     "output_type": "error",
     "traceback": [
      "\u001b[0;36m  File \u001b[0;32m\"<ipython-input-33-cb54f490d677>\"\u001b[0;36m, line \u001b[0;32m2\u001b[0m\n\u001b[0;31m    'MODEL'= algo\u001b[0m\n\u001b[0m           ^\u001b[0m\n\u001b[0;31mSyntaxError\u001b[0m\u001b[0;31m:\u001b[0m invalid syntax\n"
     ]
    }
   ],
   "source": [
    "temp = pd.DataFrame({\n",
    "    'MODEL'= algo\n",
    "    'ERROR'= mse\n",
    "})"
   ]
  },
  {
   "cell_type": "code",
   "execution_count": null,
   "id": "71ab2d6d",
   "metadata": {},
   "outputs": [],
   "source": [
    "temp"
   ]
  }
 ],
 "metadata": {
  "kernelspec": {
   "display_name": "Python 3",
   "language": "python",
   "name": "python3"
  },
  "language_info": {
   "codemirror_mode": {
    "name": "ipython",
    "version": 3
   },
   "file_extension": ".py",
   "mimetype": "text/x-python",
   "name": "python",
   "nbconvert_exporter": "python",
   "pygments_lexer": "ipython3",
   "version": "3.8.8"
  }
 },
 "nbformat": 4,
 "nbformat_minor": 5
}
