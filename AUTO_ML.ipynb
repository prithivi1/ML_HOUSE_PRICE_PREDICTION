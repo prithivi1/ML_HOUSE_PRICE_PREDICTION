{
 "cells": [
  {
   "cell_type": "code",
   "execution_count": 1,
   "id": "ff8e50a6",
   "metadata": {},
   "outputs": [],
   "source": [
    "import numpy as np\n",
    "import pandas as pd\n",
    "import matplotlib.pyplot as plt\n",
    "import seaborn as sns\n",
    "\n",
    "%matplotlib inline\n",
    "\n",
    "import warnings\n",
    "warnings.filterwarnings(\"ignore\")"
   ]
  },
  {
   "cell_type": "code",
   "execution_count": 2,
   "id": "32c4106c",
   "metadata": {},
   "outputs": [],
   "source": [
    "from sklearn.experimental import enable_iterative_imputer \n",
    "from sklearn.impute import IterativeImputer\n",
    "from sklearn.preprocessing import OrdinalEncoder\n",
    "from sklearn.ensemble import (GradientBoostingRegressor, GradientBoostingClassifier)\n",
    "from sklearn.linear_model import LinearRegression\n",
    "from sklearn.model_selection import train_test_split\n",
    "from sklearn import metrics\n",
    "from sklearn.tree import DecisionTreeRegressor\n",
    "from sklearn.ensemble import RandomForestRegressor\n",
    "from xgboost import XGBRegressor"
   ]
  },
  {
   "cell_type": "markdown",
   "id": "72b663f8",
   "metadata": {},
   "source": [
    "###### REPLACING OTHER NAN VALUES"
   ]
  },
  {
   "cell_type": "code",
   "execution_count": 3,
   "id": "ba786936",
   "metadata": {},
   "outputs": [],
   "source": [
    "def replace_other_nan(data):\n",
    "    data.replace(['None','none','-','NONE'],np.nan,inplace=True)\n",
    "    return data"
   ]
  },
  {
   "cell_type": "markdown",
   "id": "cdb4b0ac",
   "metadata": {},
   "source": [
    "###### REMOVE COLUMN WITH HIGH NAN"
   ]
  },
  {
   "cell_type": "code",
   "execution_count": 4,
   "id": "76f3ad88",
   "metadata": {},
   "outputs": [],
   "source": [
    "def remove_column_with_high_nan(data,threshold):\n",
    "    for i in data.columns:\n",
    "        num = data[i].isnull().sum()\n",
    "        percent = (num/len(data[i]))*100\n",
    "        if(percent>threshold):\n",
    "            data.drop(i,axis=1,inplace=True)\n",
    "    return data"
   ]
  },
  {
   "cell_type": "markdown",
   "id": "c8340eb0",
   "metadata": {},
   "source": [
    "###### SPLITTING NUMERICAL AND CATEGORICAL COLUMNS"
   ]
  },
  {
   "cell_type": "code",
   "execution_count": 5,
   "id": "d9beba7e",
   "metadata": {},
   "outputs": [],
   "source": [
    "def spliting_numerical_categorical(data):\n",
    "    numerical_columns = data.select_dtypes(['float','int'])\n",
    "    categorical_columns = data.select_dtypes(['object'])\n",
    "    return numerical_columns,categorical_columns"
   ]
  },
  {
   "cell_type": "markdown",
   "id": "95f1f295",
   "metadata": {},
   "source": [
    "###### REMOVING OUTLIERS"
   ]
  },
  {
   "cell_type": "code",
   "execution_count": 6,
   "id": "c89407e7",
   "metadata": {},
   "outputs": [],
   "source": [
    "def treat_outlier(data):\n",
    "    q1 = data.quantile(0.25)\n",
    "    q3 = data.quantile(0.75)\n",
    "    \n",
    "    IQR = q3 - q1\n",
    "    \n",
    "    lower_range = q1 - 1.5 * IQR\n",
    "    upper_range = q3 + 1.5 * IQR\n",
    "    \n",
    "    low_index = data[data<lower_range].index\n",
    "    high_index = data[data>upper_range].index\n",
    "    \n",
    "    data[low_index] = lower_range\n",
    "    data[high_index] = upper_range\n",
    "            \n",
    "    return data"
   ]
  },
  {
   "cell_type": "markdown",
   "id": "06966119",
   "metadata": {},
   "source": [
    "###### NUMERICAL NAN COLUMNS"
   ]
  },
  {
   "cell_type": "code",
   "execution_count": 7,
   "id": "c9add297",
   "metadata": {},
   "outputs": [],
   "source": [
    "def columns_with_nan(train):\n",
    "    target_columns = []\n",
    "    for i in train.columns:\n",
    "        if(train[i].hasnans):\n",
    "            target_columns.append(i)\n",
    "    return target_columns"
   ]
  },
  {
   "cell_type": "markdown",
   "id": "f5f6f01d",
   "metadata": {},
   "source": [
    "###### COLUMNS WITHOUT NAN"
   ]
  },
  {
   "cell_type": "code",
   "execution_count": 8,
   "id": "d6c73557",
   "metadata": {},
   "outputs": [],
   "source": [
    "def generate_data_without_nan(data,column_names):\n",
    "    return data.drop(column_names,axis=1)"
   ]
  },
  {
   "cell_type": "markdown",
   "id": "01542337",
   "metadata": {},
   "source": [
    "###### HANDLING NUMERICAL NAN VALUES"
   ]
  },
  {
   "cell_type": "markdown",
   "id": "e9ab7435",
   "metadata": {},
   "source": [
    "MEAN IMPUTATION"
   ]
  },
  {
   "cell_type": "code",
   "execution_count": 9,
   "id": "3a202f8f",
   "metadata": {},
   "outputs": [],
   "source": [
    "def mean_imputation_numerical(lst):\n",
    "    lst = lst.fillna(lst.mean())\n",
    "    return lst"
   ]
  },
  {
   "cell_type": "markdown",
   "id": "ac757475",
   "metadata": {},
   "source": [
    "MODE IMPUTATION"
   ]
  },
  {
   "cell_type": "code",
   "execution_count": 10,
   "id": "81efadec",
   "metadata": {},
   "outputs": [],
   "source": [
    "def mode_imputation_numerical(lst):\n",
    "    lst = lst.fillna(lst.mode().iloc[0])\n",
    "    return lst"
   ]
  },
  {
   "cell_type": "markdown",
   "id": "9e4b2ae0",
   "metadata": {},
   "source": [
    "REGESSION IMPUTATION"
   ]
  },
  {
   "cell_type": "code",
   "execution_count": 11,
   "id": "7095b053",
   "metadata": {},
   "outputs": [],
   "source": [
    "def gradient_boosting_model():\n",
    "    return GradientBoostingRegressor"
   ]
  },
  {
   "cell_type": "code",
   "execution_count": 12,
   "id": "625a6851",
   "metadata": {},
   "outputs": [],
   "source": [
    "def find_missing_index(numerical_columns,target_columns):\n",
    "    missing_index = numerical_columns[target_columns][numerical_columns[target_columns].isnull()].index\n",
    "    return missing_index"
   ]
  },
  {
   "cell_type": "code",
   "execution_count": 13,
   "id": "ed273194",
   "metadata": {},
   "outputs": [],
   "source": [
    "def regression_imputation_numerical(x,y,missing_index):\n",
    "    y = y.fillna(y.mean())\n",
    "    model = GradientBoostingRegressor()\n",
    "    model.fit(x,y)\n",
    "    prediction = model.predict(x)\n",
    "    prediction = pd.Series(prediction,index=y.index)\n",
    "    y.loc[missing_index] = prediction.loc[missing_index]\n",
    "    return y"
   ]
  },
  {
   "cell_type": "markdown",
   "id": "6acdf8a4",
   "metadata": {},
   "source": [
    "MICE IMPUTATION NUMERICAL"
   ]
  },
  {
   "cell_type": "code",
   "execution_count": 14,
   "id": "111d2bad",
   "metadata": {},
   "outputs": [],
   "source": [
    "def mice_imputation_numeric(data):\n",
    "\n",
    "    iter_imp_numeric = IterativeImputer(GradientBoostingRegressor())\n",
    "    imputed_train = iter_imp_numeric.fit_transform(data)\n",
    "    data_imputed = pd.DataFrame(imputed_train, columns = data.columns, index= data.index)\n",
    "    return data_imputed"
   ]
  },
  {
   "cell_type": "markdown",
   "id": "9cf6f42a",
   "metadata": {},
   "source": [
    "###### HANDLING CATEGORICAL NAN VALUES"
   ]
  },
  {
   "cell_type": "markdown",
   "id": "bd9e2254",
   "metadata": {},
   "source": [
    "MODE IMPUTATION"
   ]
  },
  {
   "cell_type": "code",
   "execution_count": 34,
   "id": "2253634b",
   "metadata": {},
   "outputs": [],
   "source": [
    "def mode_imputation_categorical(lst):\n",
    "    mode = lst.mode().iloc[0]\n",
    "    df = lst.fillna(mode)\n",
    "    return df"
   ]
  },
  {
   "cell_type": "markdown",
   "id": "b572a7ed",
   "metadata": {},
   "source": [
    "###### CATEGORICAL DATA ENCODING"
   ]
  },
  {
   "cell_type": "code",
   "execution_count": 35,
   "id": "1a6fcfd2",
   "metadata": {},
   "outputs": [],
   "source": [
    "def frequency_encoding_categorical(categorical_column):\n",
    "    encoder_dictionary = {}\n",
    "    \n",
    "    for i in categorical_column.columns:\n",
    "        encoder_dictionary[i] = (categorical_column[i].value_counts()/len(categorical_column)).to_dict()\n",
    "    \n",
    "    for i in categorical_column.columns:\n",
    "        categorical_column[i] = categorical_column[i].map(encoder_dictionary[i])\n",
    "        \n",
    "    return categorical_column"
   ]
  },
  {
   "cell_type": "markdown",
   "id": "80fd5491",
   "metadata": {},
   "source": [
    "###### DATA CONCATINATION"
   ]
  },
  {
   "cell_type": "code",
   "execution_count": 36,
   "id": "6c90f1cb",
   "metadata": {},
   "outputs": [],
   "source": [
    "def concat_numerical_categorical(numerical_column,categorical_column):\n",
    "    df = pd.concat([numerical_column,categorical_column],axis=1)\n",
    "    return df"
   ]
  },
  {
   "cell_type": "markdown",
   "id": "e84e2e4c",
   "metadata": {},
   "source": [
    "###### DROPING HIGH UNIQUE COLUMNS "
   ]
  },
  {
   "cell_type": "code",
   "execution_count": 37,
   "id": "89a61e44",
   "metadata": {},
   "outputs": [],
   "source": [
    "def dropping_high_uniqe(df,threshold):\n",
    "    for i in df.columns:\n",
    "        if((df[i].nunique()/len(df[i]))*100>threshold):\n",
    "            df.drop(i,axis=1,inplace=True)\n",
    "    return df"
   ]
  },
  {
   "cell_type": "markdown",
   "id": "67754e0a",
   "metadata": {},
   "source": [
    "###### TRAIN TEST SPLIT"
   ]
  },
  {
   "cell_type": "code",
   "execution_count": 38,
   "id": "2138685a",
   "metadata": {},
   "outputs": [],
   "source": [
    "def train_test_spliting(x,y):\n",
    "    X_train, X_test, y_train, y_test = train_test_split(x, y, test_size=0.30, random_state=101)\n",
    "    return X_train,X_test,y_train,y_test"
   ]
  },
  {
   "cell_type": "markdown",
   "id": "2f780e7f",
   "metadata": {},
   "source": [
    "###### MODEL BUILDING "
   ]
  },
  {
   "cell_type": "markdown",
   "id": "305d390c",
   "metadata": {},
   "source": [
    "LINEAR REGRESSION"
   ]
  },
  {
   "cell_type": "code",
   "execution_count": 39,
   "id": "9c770b36",
   "metadata": {},
   "outputs": [],
   "source": [
    "def liner_regression_model(X_train, X_test, y_train, y_test):\n",
    "    \n",
    "    model = LinearRegression()\n",
    "    model.fit(X_train,y_train)\n",
    "    prediction = model.predict(X_test)\n",
    "    \n",
    "    print('LINEAR REGRESSION')\n",
    "    plt.scatter(y_test,prediction)\n",
    "    plt.show()    \n",
    "    \n",
    "    error_lr  = metrics.mean_absolute_error(y_test,prediction)\n",
    "    \n",
    "    return model,prediction,error_lr"
   ]
  },
  {
   "cell_type": "code",
   "execution_count": 40,
   "id": "04be7783",
   "metadata": {},
   "outputs": [],
   "source": [
    "def decision_tree_model(X_train, X_test, y_train, y_test):\n",
    "    dt_model = DecisionTreeRegressor()\n",
    "    dt_model.fit(X_train,y_train)\n",
    "    dt_prediction = dt_model.predict(X_test)\n",
    "\n",
    "    print('DECISION TREE')\n",
    "    plt.scatter(y_test,dt_prediction,)\n",
    "    plt.show()\n",
    "\n",
    "    \n",
    "    error_dt = metrics.mean_absolute_error(y_test,dt_prediction)\n",
    "    \n",
    "    return dt_model,dt_prediction,error_dt"
   ]
  },
  {
   "cell_type": "code",
   "execution_count": 41,
   "id": "2054bc1a",
   "metadata": {},
   "outputs": [],
   "source": [
    "def random_forest_model(X_train, X_test, y_train, y_test):\n",
    "    rf_model = RandomForestRegressor()\n",
    "    rf_model.fit(X_train,y_train)\n",
    "    rf_prediction = rf_model.predict(X_test)\n",
    "    \n",
    "    print('RANDOM FOREST')\n",
    "    plt.scatter(y_test,rf_prediction)\n",
    "    plt.show()\n",
    "\n",
    "    \n",
    "    error_rf = metrics.mean_absolute_error(y_test,rf_prediction)\n",
    "    \n",
    "    return rf_model,rf_prediction,error_rf"
   ]
  },
  {
   "cell_type": "code",
   "execution_count": 42,
   "id": "531bedff",
   "metadata": {},
   "outputs": [],
   "source": [
    "def gradient_boosting_model(X_train, X_test, y_train, y_test):\n",
    "    gb_model = GradientBoostingRegressor()\n",
    "    gb_model.fit(X_train,y_train)\n",
    "    gb_prediction = gb_model.predict(X_test)\n",
    "    \n",
    "    print('GRADIENT BOOSTING')\n",
    "    plt.scatter(y_test,gb_prediction)\n",
    "    plt.show()\n",
    "    \n",
    "    error_gb = metrics.mean_absolute_error(y_test,gb_prediction)\n",
    "    \n",
    "    return gb_model,gb_prediction,error_gb"
   ]
  },
  {
   "cell_type": "code",
   "execution_count": 44,
   "id": "d6e3957e",
   "metadata": {},
   "outputs": [],
   "source": [
    "def xgBoost_model(X_train, X_test, y_train, y_test):\n",
    "    xgb_model = XGBRegressor()\n",
    "    xgb_model.fit(X_train,y_train)\n",
    "    xgb_prediction = xgb_model.predict(X_test)\n",
    "    \n",
    "    print('XGBOOSTING')\n",
    "    plt.scatter(y_test,xgb_prediction)\n",
    "    plt.show()\n",
    "\n",
    "    \n",
    "    error_xg = metrics.mean_absolute_error(y_test,xgb_prediction)\n",
    "    \n",
    "    return xgb_model,xgb_prediction,error_xg"
   ]
  },
  {
   "cell_type": "code",
   "execution_count": 45,
   "id": "c3dc0693",
   "metadata": {},
   "outputs": [],
   "source": [
    "def fit_model(model, X_train, X_test, y_train, y_test):\n",
    "    model_instance = model()\n",
    "    model_instance.fit(X_train, y_train)\n",
    "    prediction = model_instance.predict(X_test)\n",
    "    \n",
    "    print(f'{model.__class__.__name__}')\n",
    "    plt.scatter(y_test, prediction)\n",
    "    plt.show()\n",
    "    \n",
    "    error = metrics.mean_absolute_error(y_test, prediction)\n",
    "    \n",
    "    return model, prediction, error"
   ]
  },
  {
   "cell_type": "code",
   "execution_count": 46,
   "id": "829a92d5",
   "metadata": {},
   "outputs": [],
   "source": [
    "train = pd.read_csv(\"train.csv\")\n",
    "test = pd.read_csv(\"test.csv\")"
   ]
  },
  {
   "cell_type": "code",
   "execution_count": 48,
   "id": "9ae10333",
   "metadata": {},
   "outputs": [],
   "source": [
    "y = train['SalePrice']\n",
    "train.drop('SalePrice',axis=1,inplace=True)"
   ]
  },
  {
   "cell_type": "code",
   "execution_count": 49,
   "id": "33d12d24",
   "metadata": {},
   "outputs": [],
   "source": [
    "X_train, X_test, y_train, y_test = train_test_spliting(train,y)"
   ]
  },
  {
   "cell_type": "code",
   "execution_count": 52,
   "id": "9de0671d",
   "metadata": {},
   "outputs": [],
   "source": [
    "def a():\n",
    "    print(\"Hello\")"
   ]
  },
  {
   "cell_type": "code",
   "execution_count": 54,
   "id": "86e88103",
   "metadata": {},
   "outputs": [
    {
     "name": "stdout",
     "output_type": "stream",
     "text": [
      "Hello\n"
     ]
    }
   ],
   "source": [
    "a()"
   ]
  },
  {
   "cell_type": "code",
   "execution_count": null,
   "id": "2449a18c",
   "metadata": {},
   "outputs": [],
   "source": []
  },
  {
   "cell_type": "code",
   "execution_count": null,
   "id": "6f8ad177",
   "metadata": {},
   "outputs": [],
   "source": []
  },
  {
   "cell_type": "code",
   "execution_count": null,
   "id": "41a1b483",
   "metadata": {},
   "outputs": [],
   "source": []
  },
  {
   "cell_type": "code",
   "execution_count": null,
   "id": "06a50b80",
   "metadata": {},
   "outputs": [],
   "source": []
  },
  {
   "cell_type": "code",
   "execution_count": 51,
   "id": "31249ee1",
   "metadata": {},
   "outputs": [
    {
     "data": {
      "text/plain": [
       "Series([], dtype: int64)"
      ]
     },
     "execution_count": 51,
     "metadata": {},
     "output_type": "execute_result"
    }
   ],
   "source": [
    "X_train.value_counts()"
   ]
  },
  {
   "cell_type": "code",
   "execution_count": 40,
   "id": "a3fb52e1",
   "metadata": {},
   "outputs": [],
   "source": [
    "def helper(data):\n",
    "    \n",
    "    data = replace_other_nan(data)\n",
    "    \n",
    "    data = remove_column_with_high_nan(data,90)\n",
    "    \n",
    "    numerical_column,categorical_column = spliting_numerical_categorical(data)\n",
    "    \n",
    "    for i in numerical_column.columns:\n",
    "        numerical_column[i] = treat_outlier(numerical_column[i])\n",
    "    \n",
    "    numerical_column_with_nan = columns_with_nan(numerical_column)\n",
    "    \n",
    "#     for i in numerical_column_with_nan:\n",
    "#         percent = ((numerical_column[i].isnull().sum())/len(numerical_column[i]))*100\n",
    "        \n",
    "#         if(percent<=5):\n",
    "#             numerical_column[i] = mean_imputation_numerical(numerical_column[i])\n",
    "#         elif(percent>5 and percent<=10):\n",
    "#             numerical_column[i] = mode_imputation_numerical(numerical_column[i])\n",
    "#         else:\n",
    "#             x = generate_data_without_nan(numerical_column,numerical_column_with_nan)\n",
    "#             missing_index = find_missing_index(numerical_column,i)\n",
    "#             numerical_column[i] = regression_imputation_numerical(x,numerical_column[i],missing_index)\n",
    "\n",
    "    numerical_column = mice_imputation_numeric(numerical_column)\n",
    "    \n",
    "    \n",
    "            \n",
    "\n",
    "    categorical_column_with_nan = columns_with_nan(categorical_column)\n",
    "\n",
    "    for i in categorical_column_with_nan:\n",
    "        categorical_column[i] = mode_imputation_categorical(categorical_column[i])\n",
    "        \n",
    "    categorical_column = frequency_encoding_categorical(categorical_column)\n",
    "    \n",
    "    df = concat_numerical_categorical(numerical_column,categorical_column)\n",
    "    \n",
    "    df = dropping_high_uniqe(df,95)\n",
    "    \n",
    "    return df"
   ]
  },
  {
   "cell_type": "code",
   "execution_count": 41,
   "id": "8a3467c7",
   "metadata": {},
   "outputs": [],
   "source": [
    "def model_building(df,y):\n",
    "    X_train, X_test, y_train, y_test = train_test_spliting(df,y)\n",
    "    \n",
    "    ml_models = {}\n",
    "    \n",
    "    ml_models['Linear Regression'] = liner_regression_model(X_train, X_test, y_train, y_test)\n",
    "    ml_models['Decision Tree'] = decision_tree_model(X_train, X_test, y_train, y_test)\n",
    "    ml_models['Random forest'] = random_forest_model(X_train, X_test, y_train, y_test)\n",
    "    ml_models['Gradient Boosting'] = gradient_boosting_model(X_train, X_test, y_train, y_test)\n",
    "    ml_models['XGBoosting'] = xgBoost_model(X_train, X_test, y_train, y_test)\n",
    "        \n",
    "    return ml_models"
   ]
  },
  {
   "cell_type": "markdown",
   "id": "cb201e53",
   "metadata": {},
   "source": [
    "###### IMPORT DATA"
   ]
  },
  {
   "cell_type": "code",
   "execution_count": 42,
   "id": "e801aef2",
   "metadata": {},
   "outputs": [],
   "source": [
    "train = pd.read_csv(\"train.csv\")\n",
    "test = pd.read_csv(\"test.csv\")"
   ]
  },
  {
   "cell_type": "code",
   "execution_count": 43,
   "id": "6a1d0979",
   "metadata": {},
   "outputs": [],
   "source": [
    "y = train['SalePrice']\n",
    "train.drop('SalePrice',axis=1,inplace=True)"
   ]
  },
  {
   "cell_type": "code",
   "execution_count": 45,
   "id": "c942bda4",
   "metadata": {},
   "outputs": [
    {
     "data": {
      "text/html": [
       "<div>\n",
       "<style scoped>\n",
       "    .dataframe tbody tr th:only-of-type {\n",
       "        vertical-align: middle;\n",
       "    }\n",
       "\n",
       "    .dataframe tbody tr th {\n",
       "        vertical-align: top;\n",
       "    }\n",
       "\n",
       "    .dataframe thead th {\n",
       "        text-align: right;\n",
       "    }\n",
       "</style>\n",
       "<table border=\"1\" class=\"dataframe\">\n",
       "  <thead>\n",
       "    <tr style=\"text-align: right;\">\n",
       "      <th></th>\n",
       "      <th>Id</th>\n",
       "      <th>MSSubClass</th>\n",
       "      <th>MSZoning</th>\n",
       "      <th>LotFrontage</th>\n",
       "      <th>LotArea</th>\n",
       "      <th>Street</th>\n",
       "      <th>LotShape</th>\n",
       "      <th>LandContour</th>\n",
       "      <th>Utilities</th>\n",
       "      <th>LotConfig</th>\n",
       "      <th>...</th>\n",
       "      <th>EnclosedPorch</th>\n",
       "      <th>3SsnPorch</th>\n",
       "      <th>ScreenPorch</th>\n",
       "      <th>PoolArea</th>\n",
       "      <th>Fence</th>\n",
       "      <th>MiscVal</th>\n",
       "      <th>MoSold</th>\n",
       "      <th>YrSold</th>\n",
       "      <th>SaleType</th>\n",
       "      <th>SaleCondition</th>\n",
       "    </tr>\n",
       "  </thead>\n",
       "  <tbody>\n",
       "    <tr>\n",
       "      <th>0</th>\n",
       "      <td>1</td>\n",
       "      <td>60</td>\n",
       "      <td>RL</td>\n",
       "      <td>65.0</td>\n",
       "      <td>8450</td>\n",
       "      <td>Pave</td>\n",
       "      <td>Reg</td>\n",
       "      <td>Lvl</td>\n",
       "      <td>AllPub</td>\n",
       "      <td>Inside</td>\n",
       "      <td>...</td>\n",
       "      <td>0</td>\n",
       "      <td>0</td>\n",
       "      <td>0</td>\n",
       "      <td>0</td>\n",
       "      <td>NaN</td>\n",
       "      <td>0</td>\n",
       "      <td>2</td>\n",
       "      <td>2008</td>\n",
       "      <td>WD</td>\n",
       "      <td>Normal</td>\n",
       "    </tr>\n",
       "    <tr>\n",
       "      <th>1</th>\n",
       "      <td>2</td>\n",
       "      <td>20</td>\n",
       "      <td>RL</td>\n",
       "      <td>80.0</td>\n",
       "      <td>9600</td>\n",
       "      <td>Pave</td>\n",
       "      <td>Reg</td>\n",
       "      <td>Lvl</td>\n",
       "      <td>AllPub</td>\n",
       "      <td>FR2</td>\n",
       "      <td>...</td>\n",
       "      <td>0</td>\n",
       "      <td>0</td>\n",
       "      <td>0</td>\n",
       "      <td>0</td>\n",
       "      <td>NaN</td>\n",
       "      <td>0</td>\n",
       "      <td>5</td>\n",
       "      <td>2007</td>\n",
       "      <td>WD</td>\n",
       "      <td>Normal</td>\n",
       "    </tr>\n",
       "    <tr>\n",
       "      <th>2</th>\n",
       "      <td>3</td>\n",
       "      <td>60</td>\n",
       "      <td>RL</td>\n",
       "      <td>68.0</td>\n",
       "      <td>11250</td>\n",
       "      <td>Pave</td>\n",
       "      <td>IR1</td>\n",
       "      <td>Lvl</td>\n",
       "      <td>AllPub</td>\n",
       "      <td>Inside</td>\n",
       "      <td>...</td>\n",
       "      <td>0</td>\n",
       "      <td>0</td>\n",
       "      <td>0</td>\n",
       "      <td>0</td>\n",
       "      <td>NaN</td>\n",
       "      <td>0</td>\n",
       "      <td>9</td>\n",
       "      <td>2008</td>\n",
       "      <td>WD</td>\n",
       "      <td>Normal</td>\n",
       "    </tr>\n",
       "    <tr>\n",
       "      <th>3</th>\n",
       "      <td>4</td>\n",
       "      <td>70</td>\n",
       "      <td>RL</td>\n",
       "      <td>60.0</td>\n",
       "      <td>9550</td>\n",
       "      <td>Pave</td>\n",
       "      <td>IR1</td>\n",
       "      <td>Lvl</td>\n",
       "      <td>AllPub</td>\n",
       "      <td>Corner</td>\n",
       "      <td>...</td>\n",
       "      <td>272</td>\n",
       "      <td>0</td>\n",
       "      <td>0</td>\n",
       "      <td>0</td>\n",
       "      <td>NaN</td>\n",
       "      <td>0</td>\n",
       "      <td>2</td>\n",
       "      <td>2006</td>\n",
       "      <td>WD</td>\n",
       "      <td>Abnorml</td>\n",
       "    </tr>\n",
       "    <tr>\n",
       "      <th>4</th>\n",
       "      <td>5</td>\n",
       "      <td>60</td>\n",
       "      <td>RL</td>\n",
       "      <td>84.0</td>\n",
       "      <td>14260</td>\n",
       "      <td>Pave</td>\n",
       "      <td>IR1</td>\n",
       "      <td>Lvl</td>\n",
       "      <td>AllPub</td>\n",
       "      <td>FR2</td>\n",
       "      <td>...</td>\n",
       "      <td>0</td>\n",
       "      <td>0</td>\n",
       "      <td>0</td>\n",
       "      <td>0</td>\n",
       "      <td>NaN</td>\n",
       "      <td>0</td>\n",
       "      <td>12</td>\n",
       "      <td>2008</td>\n",
       "      <td>WD</td>\n",
       "      <td>Normal</td>\n",
       "    </tr>\n",
       "  </tbody>\n",
       "</table>\n",
       "<p>5 rows × 77 columns</p>\n",
       "</div>"
      ],
      "text/plain": [
       "   Id  MSSubClass MSZoning  LotFrontage  LotArea Street LotShape LandContour  \\\n",
       "0   1          60       RL         65.0     8450   Pave      Reg         Lvl   \n",
       "1   2          20       RL         80.0     9600   Pave      Reg         Lvl   \n",
       "2   3          60       RL         68.0    11250   Pave      IR1         Lvl   \n",
       "3   4          70       RL         60.0     9550   Pave      IR1         Lvl   \n",
       "4   5          60       RL         84.0    14260   Pave      IR1         Lvl   \n",
       "\n",
       "  Utilities LotConfig  ... EnclosedPorch 3SsnPorch ScreenPorch PoolArea Fence  \\\n",
       "0    AllPub    Inside  ...             0         0           0        0   NaN   \n",
       "1    AllPub       FR2  ...             0         0           0        0   NaN   \n",
       "2    AllPub    Inside  ...             0         0           0        0   NaN   \n",
       "3    AllPub    Corner  ...           272         0           0        0   NaN   \n",
       "4    AllPub       FR2  ...             0         0           0        0   NaN   \n",
       "\n",
       "  MiscVal  MoSold  YrSold  SaleType  SaleCondition  \n",
       "0       0       2    2008        WD         Normal  \n",
       "1       0       5    2007        WD         Normal  \n",
       "2       0       9    2008        WD         Normal  \n",
       "3       0       2    2006        WD        Abnorml  \n",
       "4       0      12    2008        WD         Normal  \n",
       "\n",
       "[5 rows x 77 columns]"
      ]
     },
     "execution_count": 45,
     "metadata": {},
     "output_type": "execute_result"
    }
   ],
   "source": [
    "train.head()"
   ]
  },
  {
   "cell_type": "code",
   "execution_count": 44,
   "id": "ee12fc90",
   "metadata": {},
   "outputs": [
    {
     "name": "stdout",
     "output_type": "stream",
     "text": [
      "60.98190498352051\n"
     ]
    }
   ],
   "source": [
    "import time\n",
    "\n",
    "start = time.time()\n",
    "df = helper(train)\n",
    "end = time.time()\n",
    "\n",
    "print(end-start)"
   ]
  },
  {
   "cell_type": "code",
   "execution_count": 46,
   "id": "6602707e",
   "metadata": {
    "scrolled": true
   },
   "outputs": [
    {
     "name": "stdout",
     "output_type": "stream",
     "text": [
      "LINEAR REGRESSION\n"
     ]
    },
    {
     "data": {
      "image/png": "[encoded data removed]",
      "text/plain": [
       "<Figure size 432x288 with 1 Axes>"
      ]
     },
     "metadata": {
      "needs_background": "light"
     },
     "output_type": "display_data"
    },
    {
     "name": "stdout",
     "output_type": "stream",
     "text": [
      "DECISION TREE\n"
     ]
    },
    {
     "data": {
      "image/png": "[encoded data removed]",
      "text/plain": [
       "<Figure size 432x288 with 1 Axes>"
      ]
     },
     "metadata": {
      "needs_background": "light"
     },
     "output_type": "display_data"
    },
    {
     "name": "stdout",
     "output_type": "stream",
     "text": [
      "RANDOM FOREST\n"
     ]
    },
    {
     "data": {
      "image/png": "[encoded data removed]",
      "text/plain": [
       "<Figure size 432x288 with 1 Axes>"
      ]
     },
     "metadata": {
      "needs_background": "light"
     },
     "output_type": "display_data"
    },
    {
     "name": "stdout",
     "output_type": "stream",
     "text": [
      "GRADIENT BOOSTING\n"
     ]
    },
    {
     "data": {
      "image/png": "[encoded data removed]",
      "text/plain": [
       "<Figure size 432x288 with 1 Axes>"
      ]
     },
     "metadata": {
      "needs_background": "light"
     },
     "output_type": "display_data"
    },
    {
     "name": "stdout",
     "output_type": "stream",
     "text": [
      "XGBOOSTING\n"
     ]
    },
    {
     "data": {
      "image/png": "[encoded data removed]",
      "text/plain": [
       "<Figure size 432x288 with 1 Axes>"
      ]
     },
     "metadata": {
      "needs_background": "light"
     },
     "output_type": "display_data"
    }
   ],
   "source": [
    "result = model_building(df,y)"
   ]
  },
  {
   "cell_type": "code",
   "execution_count": 47,
   "id": "f078e952",
   "metadata": {},
   "outputs": [],
   "source": [
    "algo = []\n",
    "mse = []\n",
    "for key, value in result.items():\n",
    "    algo.append(key)\n",
    "    mse.append(value[2])"
   ]
  },
  {
   "cell_type": "code",
   "execution_count": 48,
   "id": "76162a7e",
   "metadata": {},
   "outputs": [],
   "source": [
    "temp = pd.DataFrame({\n",
    "    'MODEL': algo,\n",
    "    'ERROR': mse\n",
    "})"
   ]
  },
  {
   "cell_type": "code",
   "execution_count": 49,
   "id": "6e03c1d6",
   "metadata": {},
   "outputs": [
    {
     "data": {
      "text/html": [
       "<div>\n",
       "<style scoped>\n",
       "    .dataframe tbody tr th:only-of-type {\n",
       "        vertical-align: middle;\n",
       "    }\n",
       "\n",
       "    .dataframe tbody tr th {\n",
       "        vertical-align: top;\n",
       "    }\n",
       "\n",
       "    .dataframe thead th {\n",
       "        text-align: right;\n",
       "    }\n",
       "</style>\n",
       "<table border=\"1\" class=\"dataframe\">\n",
       "  <thead>\n",
       "    <tr style=\"text-align: right;\">\n",
       "      <th></th>\n",
       "      <th>MODEL</th>\n",
       "      <th>ERROR</th>\n",
       "    </tr>\n",
       "  </thead>\n",
       "  <tbody>\n",
       "    <tr>\n",
       "      <th>0</th>\n",
       "      <td>Linear Regression</td>\n",
       "      <td>19551.991229</td>\n",
       "    </tr>\n",
       "    <tr>\n",
       "      <th>1</th>\n",
       "      <td>Decision Tree</td>\n",
       "      <td>26814.264840</td>\n",
       "    </tr>\n",
       "    <tr>\n",
       "      <th>2</th>\n",
       "      <td>Random forest</td>\n",
       "      <td>18257.548037</td>\n",
       "    </tr>\n",
       "    <tr>\n",
       "      <th>3</th>\n",
       "      <td>Gradient Boosting</td>\n",
       "      <td>17018.911542</td>\n",
       "    </tr>\n",
       "    <tr>\n",
       "      <th>4</th>\n",
       "      <td>XGBoosting</td>\n",
       "      <td>18699.158025</td>\n",
       "    </tr>\n",
       "  </tbody>\n",
       "</table>\n",
       "</div>"
      ],
      "text/plain": [
       "               MODEL         ERROR\n",
       "0  Linear Regression  19551.991229\n",
       "1      Decision Tree  26814.264840\n",
       "2      Random forest  18257.548037\n",
       "3  Gradient Boosting  17018.911542\n",
       "4         XGBoosting  18699.158025"
      ]
     },
     "execution_count": 49,
     "metadata": {},
     "output_type": "execute_result"
    }
   ],
   "source": [
    "temp"
   ]
  },
  {
   "cell_type": "code",
   "execution_count": null,
   "id": "44d91c3c",
   "metadata": {},
   "outputs": [],
   "source": []
  },
  {
   "cell_type": "code",
   "execution_count": 47,
   "id": "995f94bf",
   "metadata": {},
   "outputs": [
    {
     "data": {
      "text/plain": [
       "GradientBoostingRegressor()"
      ]
     },
     "execution_count": 47,
     "metadata": {},
     "output_type": "execute_result"
    }
   ],
   "source": [
    "model = result['Gradient Boosting'][0]\n",
    "model"
   ]
  },
  {
   "cell_type": "code",
   "execution_count": 48,
   "id": "dce64c2b",
   "metadata": {},
   "outputs": [],
   "source": [
    "df = helper(test)"
   ]
  },
  {
   "cell_type": "code",
   "execution_count": 51,
   "id": "bb2e44f2",
   "metadata": {},
   "outputs": [],
   "source": [
    "output = model.predict(df)"
   ]
  },
  {
   "cell_type": "code",
   "execution_count": 53,
   "id": "7578e292",
   "metadata": {},
   "outputs": [],
   "source": [
    "submission = pd.DataFrame({\n",
    "        \"Id\": test[\"Id\"],\n",
    "        \"SalePrice\": output\n",
    "    })"
   ]
  },
  {
   "cell_type": "code",
   "execution_count": 55,
   "id": "31cd7bd8",
   "metadata": {},
   "outputs": [],
   "source": [
    "submission.to_csv('submission.csv')"
   ]
  },
  {
   "cell_type": "code",
   "execution_count": 50,
   "id": "04b3886e",
   "metadata": {},
   "outputs": [
    {
     "name": "stdout",
     "output_type": "stream",
     "text": [
      "['LotFrontage', 'LotArea', 'OverallQual', 'YearBuilt', 'YearRemodAdd', 'BsmtFinSF1', 'BsmtUnfSF', 'TotalBsmtSF', '1stFlrSF', '2ndFlrSF', 'GrLivArea', 'FullBath', 'TotRmsAbvGrd', 'GarageCars', 'GarageArea', 'WoodDeckSF', 'Neighborhood', 'ExterQual', 'GarageFinish']\n",
      "LINEAR REGRESSION\n"
     ]
    },
    {
     "data": {
      "image/png": "[encoded data removed]",
      "text/plain": [
       "<Figure size 432x288 with 1 Axes>"
      ]
     },
     "metadata": {
      "needs_background": "light"
     },
     "output_type": "display_data"
    },
    {
     "name": "stdout",
     "output_type": "stream",
     "text": [
      "DECISION TREE\n"
     ]
    },
    {
     "data": {
      "image/png": "[encoded data removed]",
      "text/plain": [
       "<Figure size 432x288 with 1 Axes>"
      ]
     },
     "metadata": {
      "needs_background": "light"
     },
     "output_type": "display_data"
    },
    {
     "name": "stdout",
     "output_type": "stream",
     "text": [
      "RANDOM FOREST\n"
     ]
    },
    {
     "data": {
      "image/png": "[encoded data removed]",
      "text/plain": [
       "<Figure size 432x288 with 1 Axes>"
      ]
     },
     "metadata": {
      "needs_background": "light"
     },
     "output_type": "display_data"
    },
    {
     "name": "stdout",
     "output_type": "stream",
     "text": [
      "GRADIENT BOOSTING\n"
     ]
    },
    {
     "data": {
      "image/png": "[encoded data removed]",
      "text/plain": [
       "<Figure size 432x288 with 1 Axes>"
      ]
     },
     "metadata": {
      "needs_background": "light"
     },
     "output_type": "display_data"
    },
    {
     "name": "stdout",
     "output_type": "stream",
     "text": [
      "XGBOOSTING\n"
     ]
    },
    {
     "data": {
      "image/png": "[encoded data removed]",
      "text/plain": [
       "<Figure size 432x288 with 1 Axes>"
      ]
     },
     "metadata": {
      "needs_background": "light"
     },
     "output_type": "display_data"
    },
    {
     "name": "stdout",
     "output_type": "stream",
     "text": [
      "               MODEL         ERROR\n",
      "0  Linear Regression  21631.343836\n",
      "1      Decision Tree  28265.424658\n",
      "2      Random forest  18785.375411\n",
      "3  Gradient Boosting  17240.204402\n",
      "4         XGBoosting  19024.755315\n"
     ]
    }
   ],
   "source": [
    "rf_model = result['Random forest'][0]\n",
    "rf_model\n",
    "\n",
    "\n",
    "importance = pd.concat([pd.Series(df.columns), pd.Series(rf_model.feature_importances_)], axis=1)\n",
    "importance.columns = ['feature', 'importance']\n",
    "importance.sort_values(by='importance', ascending=False)\n",
    "feature_selected = importance[importance['importance']>=0.005]['feature']\n",
    "feat = list(feature_selected)\n",
    "print(feat)\n",
    "\n",
    "result = model_building(df[feat],y)\n",
    "\n",
    "algo = []\n",
    "mse = []\n",
    "\n",
    "for key, value in result.items():\n",
    "    algo.append(key)\n",
    "    mse.append(value[2])\n",
    "\n",
    "temp = pd.DataFrame({\n",
    "    'MODEL': algo,\n",
    "    'ERROR': mse\n",
    "})\n",
    "\n",
    "print(temp)\n"
   ]
  },
  {
   "cell_type": "code",
   "execution_count": 51,
   "id": "762711fb",
   "metadata": {},
   "outputs": [
    {
     "data": {
      "text/plain": [
       "(1460, 76)"
      ]
     },
     "execution_count": 51,
     "metadata": {},
     "output_type": "execute_result"
    }
   ],
   "source": [
    "df.shape"
   ]
  },
  {
   "cell_type": "code",
   "execution_count": 52,
   "id": "f87ac327",
   "metadata": {},
   "outputs": [],
   "source": [
    "corr_matrix = pd.concat([df,y],axis=1).corr()\n",
    "corr_matrix = corr_matrix.abs().unstack()\n",
    "corr_matrix = corr_matrix.sort_values(ascending=False)\n",
    "corr_matrix = corr_matrix[corr_matrix >= 0.1]\n",
    "corr_matrix = corr_matrix[corr_matrix < 1]\n",
    "corr_matrix = pd.DataFrame(corr_matrix).reset_index()\n",
    "corr_matrix.columns = ['feature1', 'feature2', 'Correlation']\n",
    "feat = list(corr_matrix[corr_matrix['feature1']=='SalePrice']['feature2'])"
   ]
  },
  {
   "cell_type": "code",
   "execution_count": 53,
   "id": "94c8e478",
   "metadata": {
    "scrolled": true
   },
   "outputs": [
    {
     "data": {
      "text/html": [
       "<div>\n",
       "<style scoped>\n",
       "    .dataframe tbody tr th:only-of-type {\n",
       "        vertical-align: middle;\n",
       "    }\n",
       "\n",
       "    .dataframe tbody tr th {\n",
       "        vertical-align: top;\n",
       "    }\n",
       "\n",
       "    .dataframe thead th {\n",
       "        text-align: right;\n",
       "    }\n",
       "</style>\n",
       "<table border=\"1\" class=\"dataframe\">\n",
       "  <thead>\n",
       "    <tr style=\"text-align: right;\">\n",
       "      <th></th>\n",
       "      <th>feature1</th>\n",
       "      <th>feature2</th>\n",
       "      <th>Correlation</th>\n",
       "    </tr>\n",
       "  </thead>\n",
       "  <tbody>\n",
       "    <tr>\n",
       "      <th>12</th>\n",
       "      <td>SalePrice</td>\n",
       "      <td>OverallQual</td>\n",
       "      <td>0.791965</td>\n",
       "    </tr>\n",
       "    <tr>\n",
       "      <th>14</th>\n",
       "      <td>SalePrice</td>\n",
       "      <td>GrLivArea</td>\n",
       "      <td>0.708153</td>\n",
       "    </tr>\n",
       "    <tr>\n",
       "      <th>24</th>\n",
       "      <td>SalePrice</td>\n",
       "      <td>GarageCars</td>\n",
       "      <td>0.644002</td>\n",
       "    </tr>\n",
       "    <tr>\n",
       "      <th>29</th>\n",
       "      <td>SalePrice</td>\n",
       "      <td>TotalBsmtSF</td>\n",
       "      <td>0.636999</td>\n",
       "    </tr>\n",
       "    <tr>\n",
       "      <th>32</th>\n",
       "      <td>SalePrice</td>\n",
       "      <td>GarageArea</td>\n",
       "      <td>0.630138</td>\n",
       "    </tr>\n",
       "    <tr>\n",
       "      <th>36</th>\n",
       "      <td>SalePrice</td>\n",
       "      <td>1stFlrSF</td>\n",
       "      <td>0.620743</td>\n",
       "    </tr>\n",
       "    <tr>\n",
       "      <th>41</th>\n",
       "      <td>SalePrice</td>\n",
       "      <td>ExterQual</td>\n",
       "      <td>0.614487</td>\n",
       "    </tr>\n",
       "    <tr>\n",
       "      <th>64</th>\n",
       "      <td>SalePrice</td>\n",
       "      <td>FullBath</td>\n",
       "      <td>0.560664</td>\n",
       "    </tr>\n",
       "    <tr>\n",
       "      <th>86</th>\n",
       "      <td>SalePrice</td>\n",
       "      <td>TotRmsAbvGrd</td>\n",
       "      <td>0.536067</td>\n",
       "    </tr>\n",
       "    <tr>\n",
       "      <th>88</th>\n",
       "      <td>SalePrice</td>\n",
       "      <td>GarageFinish</td>\n",
       "      <td>0.535855</td>\n",
       "    </tr>\n",
       "    <tr>\n",
       "      <th>99</th>\n",
       "      <td>SalePrice</td>\n",
       "      <td>YearBuilt</td>\n",
       "      <td>0.524172</td>\n",
       "    </tr>\n",
       "    <tr>\n",
       "      <th>110</th>\n",
       "      <td>SalePrice</td>\n",
       "      <td>YearRemodAdd</td>\n",
       "      <td>0.507101</td>\n",
       "    </tr>\n",
       "    <tr>\n",
       "      <th>113</th>\n",
       "      <td>SalePrice</td>\n",
       "      <td>GarageYrBlt</td>\n",
       "      <td>0.505867</td>\n",
       "    </tr>\n",
       "    <tr>\n",
       "      <th>150</th>\n",
       "      <td>SalePrice</td>\n",
       "      <td>Fireplaces</td>\n",
       "      <td>0.468700</td>\n",
       "    </tr>\n",
       "    <tr>\n",
       "      <th>155</th>\n",
       "      <td>SalePrice</td>\n",
       "      <td>BsmtQual</td>\n",
       "      <td>0.467000</td>\n",
       "    </tr>\n",
       "    <tr>\n",
       "      <th>156</th>\n",
       "      <td>SalePrice</td>\n",
       "      <td>KitchenQual</td>\n",
       "      <td>0.466043</td>\n",
       "    </tr>\n",
       "    <tr>\n",
       "      <th>177</th>\n",
       "      <td>SalePrice</td>\n",
       "      <td>MasVnrArea</td>\n",
       "      <td>0.454806</td>\n",
       "    </tr>\n",
       "    <tr>\n",
       "      <th>205</th>\n",
       "      <td>SalePrice</td>\n",
       "      <td>LotArea</td>\n",
       "      <td>0.432216</td>\n",
       "    </tr>\n",
       "    <tr>\n",
       "      <th>251</th>\n",
       "      <td>SalePrice</td>\n",
       "      <td>BsmtFinSF1</td>\n",
       "      <td>0.400330</td>\n",
       "    </tr>\n",
       "    <tr>\n",
       "      <th>255</th>\n",
       "      <td>SalePrice</td>\n",
       "      <td>HeatingQC</td>\n",
       "      <td>0.399565</td>\n",
       "    </tr>\n",
       "    <tr>\n",
       "      <th>268</th>\n",
       "      <td>SalePrice</td>\n",
       "      <td>LotFrontage</td>\n",
       "      <td>0.387946</td>\n",
       "    </tr>\n",
       "    <tr>\n",
       "      <th>293</th>\n",
       "      <td>SalePrice</td>\n",
       "      <td>OpenPorchSF</td>\n",
       "      <td>0.369024</td>\n",
       "    </tr>\n",
       "    <tr>\n",
       "      <th>381</th>\n",
       "      <td>SalePrice</td>\n",
       "      <td>WoodDeckSF</td>\n",
       "      <td>0.330378</td>\n",
       "    </tr>\n",
       "    <tr>\n",
       "      <th>397</th>\n",
       "      <td>SalePrice</td>\n",
       "      <td>BsmtExposure</td>\n",
       "      <td>0.322726</td>\n",
       "    </tr>\n",
       "    <tr>\n",
       "      <th>405</th>\n",
       "      <td>SalePrice</td>\n",
       "      <td>2ndFlrSF</td>\n",
       "      <td>0.316547</td>\n",
       "    </tr>\n",
       "    <tr>\n",
       "      <th>459</th>\n",
       "      <td>SalePrice</td>\n",
       "      <td>MasVnrType</td>\n",
       "      <td>0.294870</td>\n",
       "    </tr>\n",
       "    <tr>\n",
       "      <th>506</th>\n",
       "      <td>SalePrice</td>\n",
       "      <td>HalfBath</td>\n",
       "      <td>0.284108</td>\n",
       "    </tr>\n",
       "    <tr>\n",
       "      <th>533</th>\n",
       "      <td>SalePrice</td>\n",
       "      <td>LotShape</td>\n",
       "      <td>0.274094</td>\n",
       "    </tr>\n",
       "    <tr>\n",
       "      <th>610</th>\n",
       "      <td>SalePrice</td>\n",
       "      <td>Exterior2nd</td>\n",
       "      <td>0.256567</td>\n",
       "    </tr>\n",
       "    <tr>\n",
       "      <th>641</th>\n",
       "      <td>SalePrice</td>\n",
       "      <td>CentralAir</td>\n",
       "      <td>0.251328</td>\n",
       "    </tr>\n",
       "    <tr>\n",
       "      <th>650</th>\n",
       "      <td>SalePrice</td>\n",
       "      <td>Foundation</td>\n",
       "      <td>0.250419</td>\n",
       "    </tr>\n",
       "    <tr>\n",
       "      <th>655</th>\n",
       "      <td>SalePrice</td>\n",
       "      <td>Exterior1st</td>\n",
       "      <td>0.250022</td>\n",
       "    </tr>\n",
       "    <tr>\n",
       "      <th>686</th>\n",
       "      <td>SalePrice</td>\n",
       "      <td>Electrical</td>\n",
       "      <td>0.242992</td>\n",
       "    </tr>\n",
       "    <tr>\n",
       "      <th>742</th>\n",
       "      <td>SalePrice</td>\n",
       "      <td>MSZoning</td>\n",
       "      <td>0.232941</td>\n",
       "    </tr>\n",
       "    <tr>\n",
       "      <th>748</th>\n",
       "      <td>SalePrice</td>\n",
       "      <td>SaleType</td>\n",
       "      <td>0.231732</td>\n",
       "    </tr>\n",
       "    <tr>\n",
       "      <th>754</th>\n",
       "      <td>SalePrice</td>\n",
       "      <td>PavedDrive</td>\n",
       "      <td>0.231335</td>\n",
       "    </tr>\n",
       "    <tr>\n",
       "      <th>770</th>\n",
       "      <td>SalePrice</td>\n",
       "      <td>BsmtFinType1</td>\n",
       "      <td>0.228870</td>\n",
       "    </tr>\n",
       "    <tr>\n",
       "      <th>779</th>\n",
       "      <td>SalePrice</td>\n",
       "      <td>BsmtFullBath</td>\n",
       "      <td>0.227813</td>\n",
       "    </tr>\n",
       "    <tr>\n",
       "      <th>849</th>\n",
       "      <td>SalePrice</td>\n",
       "      <td>RoofStyle</td>\n",
       "      <td>0.215692</td>\n",
       "    </tr>\n",
       "    <tr>\n",
       "      <th>926</th>\n",
       "      <td>SalePrice</td>\n",
       "      <td>BsmtUnfSF</td>\n",
       "      <td>0.203278</td>\n",
       "    </tr>\n",
       "    <tr>\n",
       "      <th>974</th>\n",
       "      <td>SalePrice</td>\n",
       "      <td>Neighborhood</td>\n",
       "      <td>0.196204</td>\n",
       "    </tr>\n",
       "    <tr>\n",
       "      <th>978</th>\n",
       "      <td>SalePrice</td>\n",
       "      <td>FireplaceQu</td>\n",
       "      <td>0.195615</td>\n",
       "    </tr>\n",
       "    <tr>\n",
       "      <th>1048</th>\n",
       "      <td>SalePrice</td>\n",
       "      <td>BedroomAbvGr</td>\n",
       "      <td>0.185740</td>\n",
       "    </tr>\n",
       "    <tr>\n",
       "      <th>1267</th>\n",
       "      <td>SalePrice</td>\n",
       "      <td>GarageType</td>\n",
       "      <td>0.156852</td>\n",
       "    </tr>\n",
       "    <tr>\n",
       "      <th>1378</th>\n",
       "      <td>SalePrice</td>\n",
       "      <td>SaleCondition</td>\n",
       "      <td>0.146294</td>\n",
       "    </tr>\n",
       "    <tr>\n",
       "      <th>1434</th>\n",
       "      <td>SalePrice</td>\n",
       "      <td>BldgType</td>\n",
       "      <td>0.141623</td>\n",
       "    </tr>\n",
       "    <tr>\n",
       "      <th>1497</th>\n",
       "      <td>SalePrice</td>\n",
       "      <td>GarageCond</td>\n",
       "      <td>0.135666</td>\n",
       "    </tr>\n",
       "    <tr>\n",
       "      <th>1716</th>\n",
       "      <td>SalePrice</td>\n",
       "      <td>Functional</td>\n",
       "      <td>0.116493</td>\n",
       "    </tr>\n",
       "    <tr>\n",
       "      <th>1805</th>\n",
       "      <td>SalePrice</td>\n",
       "      <td>Condition1</td>\n",
       "      <td>0.110512</td>\n",
       "    </tr>\n",
       "    <tr>\n",
       "      <th>1826</th>\n",
       "      <td>SalePrice</td>\n",
       "      <td>ExterCond</td>\n",
       "      <td>0.109178</td>\n",
       "    </tr>\n",
       "    <tr>\n",
       "      <th>1873</th>\n",
       "      <td>SalePrice</td>\n",
       "      <td>OverallCond</td>\n",
       "      <td>0.106261</td>\n",
       "    </tr>\n",
       "    <tr>\n",
       "      <th>1891</th>\n",
       "      <td>SalePrice</td>\n",
       "      <td>RoofMatl</td>\n",
       "      <td>0.104591</td>\n",
       "    </tr>\n",
       "  </tbody>\n",
       "</table>\n",
       "</div>"
      ],
      "text/plain": [
       "       feature1       feature2  Correlation\n",
       "12    SalePrice    OverallQual     0.791965\n",
       "14    SalePrice      GrLivArea     0.708153\n",
       "24    SalePrice     GarageCars     0.644002\n",
       "29    SalePrice    TotalBsmtSF     0.636999\n",
       "32    SalePrice     GarageArea     0.630138\n",
       "36    SalePrice       1stFlrSF     0.620743\n",
       "41    SalePrice      ExterQual     0.614487\n",
       "64    SalePrice       FullBath     0.560664\n",
       "86    SalePrice   TotRmsAbvGrd     0.536067\n",
       "88    SalePrice   GarageFinish     0.535855\n",
       "99    SalePrice      YearBuilt     0.524172\n",
       "110   SalePrice   YearRemodAdd     0.507101\n",
       "113   SalePrice    GarageYrBlt     0.505867\n",
       "150   SalePrice     Fireplaces     0.468700\n",
       "155   SalePrice       BsmtQual     0.467000\n",
       "156   SalePrice    KitchenQual     0.466043\n",
       "177   SalePrice     MasVnrArea     0.454806\n",
       "205   SalePrice        LotArea     0.432216\n",
       "251   SalePrice     BsmtFinSF1     0.400330\n",
       "255   SalePrice      HeatingQC     0.399565\n",
       "268   SalePrice    LotFrontage     0.387946\n",
       "293   SalePrice    OpenPorchSF     0.369024\n",
       "381   SalePrice     WoodDeckSF     0.330378\n",
       "397   SalePrice   BsmtExposure     0.322726\n",
       "405   SalePrice       2ndFlrSF     0.316547\n",
       "459   SalePrice     MasVnrType     0.294870\n",
       "506   SalePrice       HalfBath     0.284108\n",
       "533   SalePrice       LotShape     0.274094\n",
       "610   SalePrice    Exterior2nd     0.256567\n",
       "641   SalePrice     CentralAir     0.251328\n",
       "650   SalePrice     Foundation     0.250419\n",
       "655   SalePrice    Exterior1st     0.250022\n",
       "686   SalePrice     Electrical     0.242992\n",
       "742   SalePrice       MSZoning     0.232941\n",
       "748   SalePrice       SaleType     0.231732\n",
       "754   SalePrice     PavedDrive     0.231335\n",
       "770   SalePrice   BsmtFinType1     0.228870\n",
       "779   SalePrice   BsmtFullBath     0.227813\n",
       "849   SalePrice      RoofStyle     0.215692\n",
       "926   SalePrice      BsmtUnfSF     0.203278\n",
       "974   SalePrice   Neighborhood     0.196204\n",
       "978   SalePrice    FireplaceQu     0.195615\n",
       "1048  SalePrice   BedroomAbvGr     0.185740\n",
       "1267  SalePrice     GarageType     0.156852\n",
       "1378  SalePrice  SaleCondition     0.146294\n",
       "1434  SalePrice       BldgType     0.141623\n",
       "1497  SalePrice     GarageCond     0.135666\n",
       "1716  SalePrice     Functional     0.116493\n",
       "1805  SalePrice     Condition1     0.110512\n",
       "1826  SalePrice      ExterCond     0.109178\n",
       "1873  SalePrice    OverallCond     0.106261\n",
       "1891  SalePrice       RoofMatl     0.104591"
      ]
     },
     "execution_count": 53,
     "metadata": {},
     "output_type": "execute_result"
    }
   ],
   "source": [
    "corr_matrix[corr_matrix['feature1']=='SalePrice']"
   ]
  },
  {
   "cell_type": "code",
   "execution_count": 54,
   "id": "325bd88e",
   "metadata": {},
   "outputs": [
    {
     "name": "stdout",
     "output_type": "stream",
     "text": [
      "LINEAR REGRESSION\n"
     ]
    },
    {
     "data": {
      "image/png": "[encoded data removed]",
      "text/plain": [
       "<Figure size 432x288 with 1 Axes>"
      ]
     },
     "metadata": {
      "needs_background": "light"
     },
     "output_type": "display_data"
    },
    {
     "name": "stdout",
     "output_type": "stream",
     "text": [
      "DECISION TREE\n"
     ]
    },
    {
     "data": {
      "image/png": "[encoded data removed]",
      "text/plain": [
       "<Figure size 432x288 with 1 Axes>"
      ]
     },
     "metadata": {
      "needs_background": "light"
     },
     "output_type": "display_data"
    },
    {
     "name": "stdout",
     "output_type": "stream",
     "text": [
      "RANDOM FOREST\n"
     ]
    },
    {
     "data": {
      "image/png": "[encoded data removed]",
      "text/plain": [
       "<Figure size 432x288 with 1 Axes>"
      ]
     },
     "metadata": {
      "needs_background": "light"
     },
     "output_type": "display_data"
    },
    {
     "name": "stdout",
     "output_type": "stream",
     "text": [
      "GRADIENT BOOSTING\n"
     ]
    },
    {
     "data": {
      "image/png": "[encoded data removed]",
      "text/plain": [
       "<Figure size 432x288 with 1 Axes>"
      ]
     },
     "metadata": {
      "needs_background": "light"
     },
     "output_type": "display_data"
    },
    {
     "name": "stdout",
     "output_type": "stream",
     "text": [
      "XGBOOSTING\n"
     ]
    },
    {
     "data": {
      "image/png": "[encoded data removed]",
      "text/plain": [
       "<Figure size 432x288 with 1 Axes>"
      ]
     },
     "metadata": {
      "needs_background": "light"
     },
     "output_type": "display_data"
    },
    {
     "name": "stdout",
     "output_type": "stream",
     "text": [
      "               MODEL         ERROR\n",
      "0  Linear Regression  19049.925896\n",
      "1      Decision Tree  26388.152968\n",
      "2      Random forest  18118.774566\n",
      "3  Gradient Boosting  16982.641620\n",
      "4         XGBoosting  18479.704757\n"
     ]
    }
   ],
   "source": [
    "result = model_building(df[feat],y)\n",
    "\n",
    "algo = []\n",
    "mse = []\n",
    "for key, value in result.items():\n",
    "    algo.append(key)\n",
    "    mse.append(value[2])\n",
    "\n",
    "temp = pd.DataFrame({\n",
    "    'MODEL': algo,\n",
    "    'ERROR': mse\n",
    "})\n",
    "\n",
    "print(temp)"
   ]
  },
  {
   "cell_type": "code",
   "execution_count": null,
   "id": "30df8051",
   "metadata": {},
   "outputs": [],
   "source": []
  }
 ],
 "metadata": {
  "kernelspec": {
   "display_name": "Python 3",
   "language": "python",
   "name": "python3"
  },
  "language_info": {
   "codemirror_mode": {
    "name": "ipython",
    "version": 3
   },
   "file_extension": ".py",
   "mimetype": "text/x-python",
   "name": "python",
   "nbconvert_exporter": "python",
   "pygments_lexer": "ipython3",
   "version": "3.8.8"
  }
 },
 "nbformat": 4,
 "nbformat_minor": 5
}
